{
 "cells": [
  {
   "cell_type": "markdown",
   "metadata": {},
   "source": [
    "# Statistics Project - Assignment 5\n",
    "\n",
    "Gur Keinan, 213635899\n",
    "\n",
    "Naomi Derel, 325324994"
   ]
  },
  {
   "cell_type": "markdown",
   "metadata": {},
   "source": [
    "## Previous Assignments"
   ]
  },
  {
   "cell_type": "markdown",
   "metadata": {},
   "source": [
    "We picked the \"Cardiovascular Diseases Risk Prediction Dataset\".\n",
    "\n",
    "https://www.kaggle.com/datasets/alphiree/cardiovascular-diseases-risk-prediction-dataset?resource=download"
   ]
  },
  {
   "cell_type": "code",
   "execution_count": 167,
   "metadata": {},
   "outputs": [],
   "source": [
    "import numpy as np\n",
    "import pandas as pd\n",
    "import matplotlib.pyplot as plt\n",
    "import scipy.stats as stats\n",
    "from scipy.stats import bootstrap\n",
    "\n",
    "np.random.seed(1012)\n",
    "\n",
    "full_data = pd.read_csv('CVD_cleaned.csv')\n",
    "\n",
    "# transformation 1:\n",
    "full_data.loc[full_data[\"Diabetes\"] ==\n",
    "         'No, pre-diabetes or borderline diabetes', \"Diabetes\"] = 'at risk'\n",
    "full_data = full_data[full_data[\"Diabetes\"] != 'Yes, but female told only during pregnancy']\n",
    "\n",
    "# transformation 2:\n",
    "full_data[\"Numerical_Age_Category\"] = full_data[\"Age_Category\"].apply(\n",
    "    lambda x: int(x[:2]))\n",
    "\n",
    "### Additional transformation:\n",
    "# transformation 3: min-max normalization to weight and height. they are on different scales and if we want to \n",
    "# use one to predict the other and get meaningful results, we need to normalize them to the same scale.\n",
    "full_data[\"Weight_(kg)\"] = (full_data[\"Weight_(kg)\"] - full_data[\"Weight_(kg)\"].min()) / \\\n",
    "    (full_data[\"Weight_(kg)\"].max() - full_data[\"Weight_(kg)\"].min())\n",
    "full_data[\"Height_(cm)\"] = (full_data[\"Height_(cm)\"] - full_data[\"Height_(cm)\"].min()) / \\\n",
    "    (full_data[\"Height_(cm)\"].max() - full_data[\"Height_(cm)\"].min())"
   ]
  },
  {
   "cell_type": "markdown",
   "metadata": {},
   "source": [
    "## Part A -Bayesian Approach"
   ]
  },
  {
   "cell_type": "markdown",
   "metadata": {},
   "source": [
    "**Research Question:** Does the distribution of weight differ between populations which do and don't exercise?\n"
   ]
  },
  {
   "cell_type": "markdown",
   "metadata": {},
   "source": [
    "### 1."
   ]
  },
  {
   "cell_type": "code",
   "execution_count": 168,
   "metadata": {},
   "outputs": [],
   "source": [
    "# Sample independent groups of 200 and 1000 from the data:\n",
    "n = 200\n",
    "m = 1000\n",
    "\n",
    "data = full_data[['Exercise', 'Weight_(kg)']]\n",
    "observed_data = data.sample(n)\n",
    "past_data = data.drop(observed_data.index).sample(m) # makes sure that the past data is not the same as the observed data"
   ]
  },
  {
   "cell_type": "markdown",
   "metadata": {},
   "source": [
    "### 2."
   ]
  },
  {
   "cell_type": "code",
   "execution_count": 169,
   "metadata": {},
   "outputs": [
    {
     "name": "stdout",
     "output_type": "stream",
     "text": [
      "theta =  0.21151191852874252\n",
      "       Exercise  Weight_(kg)  Z\n",
      "102725      Yes     0.177640  0\n",
      "195809       No     0.130264  0\n",
      "65238       Yes     0.152274  0\n",
      "167460      Yes     0.138732  0\n",
      "295267      Yes     0.130264  0\n"
     ]
    }
   ],
   "source": [
    "theta = data['Weight_(kg)'].median()\n",
    "print(\"theta = \", theta)\n",
    "\n",
    "# create column Z as instructed:\n",
    "def dichotomization(x):\n",
    "    if x > theta:\n",
    "        return 1\n",
    "    else:\n",
    "        return 0\n",
    "\n",
    "observed_data['Z'] = observed_data['Weight_(kg)'].apply(dichotomization)\n",
    "print(observed_data.head())"
   ]
  },
  {
   "cell_type": "markdown",
   "metadata": {},
   "source": [
    "#### 2.a."
   ]
  },
  {
   "cell_type": "markdown",
   "metadata": {},
   "source": [
    "$$ P(Z=1|Y=j) = \\frac{P(Z=1, Y=j)}{P(Y=j)} $$\n",
    "\n",
    "$$ \\hat{P(Z=1|Y=j)} = \\frac{ \\# (Z=1 \\& Y=j) / \\#total}{\\# Y=j / \\#total} = \\frac{ \\# (Z=1 \\& Y=j)}{\\# Y=j} $$"
   ]
  },
  {
   "cell_type": "code",
   "execution_count": 170,
   "metadata": {},
   "outputs": [
    {
     "name": "stdout",
     "output_type": "stream",
     "text": [
      "p1 estimator =  0.45121951219512196\n",
      "p2 estimator =  0.4166666666666667\n"
     ]
    }
   ],
   "source": [
    "# use the formula and the standard probability estimator (count of cases out of the total) to calculate p1 and p2:\n",
    "\n",
    "observed_ex = observed_data[observed_data['Exercise'] == 'Yes']\n",
    "observed_no_ex = observed_data[observed_data['Exercise'] == 'No']\n",
    "\n",
    "num_ex = len(observed_ex)\n",
    "num_z_ex = len(observed_ex[observed_ex['Z'] == 1])\n",
    "\n",
    "num_no_ex = len(observed_no_ex)\n",
    "num_z_no_ex = len(observed_no_ex[observed_no_ex['Z'] == 1])\n",
    "\n",
    "p1 = num_z_ex / num_ex\n",
    "p2 = num_z_no_ex / num_no_ex\n",
    "\n",
    "print(\"p1 estimator = \", p1)\n",
    "print(\"p2 estimator = \", p2)"
   ]
  },
  {
   "cell_type": "code",
   "execution_count": 171,
   "metadata": {},
   "outputs": [
    {
     "name": "stdout",
     "output_type": "stream",
     "text": [
      "psi estimator =  0.14072765949511737\n"
     ]
    }
   ],
   "source": [
    "# calculating the estimator for psi:\n",
    "\n",
    "def nui(p):\n",
    "    return np.log(p / (1 - p))\n",
    "\n",
    "nui1 = nui(p1)\n",
    "nui2 = nui(p2)\n",
    "\n",
    "psi_a = nui1 - nui2\n",
    "print(\"psi estimator = \", psi_a)"
   ]
  },
  {
   "cell_type": "code",
   "execution_count": 172,
   "metadata": {},
   "outputs": [
    {
     "name": "stdout",
     "output_type": "stream",
     "text": [
      "CI for psi =  (-0.5599775887506359, 0.9475619348193357)\n"
     ]
    }
   ],
   "source": [
    "# calculating the CI for psi:\n",
    "\n",
    "def find_psi(my_data):  \n",
    "    ex = my_data[my_data['Exercise'] == 'Yes']\n",
    "    no_ex = my_data[my_data['Exercise'] == 'No']\n",
    "\n",
    "    num_ex = len(ex)\n",
    "    num_z_ex = len(ex[ex['Z'] == 1])\n",
    "\n",
    "    num_no_ex = len(no_ex)\n",
    "    num_z_no_ex = len(no_ex[no_ex['Z'] == 1])\n",
    "\n",
    "    my_p1 = num_z_ex / num_ex\n",
    "    my_p2 = num_z_no_ex / num_no_ex\n",
    "\n",
    "    return nui(my_p1) - nui(my_p2)\n",
    "\n",
    "# bootstrap for psi:\n",
    "B = 1000\n",
    "bootstrap_psi = np.zeros(B)\n",
    "for i in range(B):\n",
    "    bootstrap_data = observed_data.sample(n, replace=True)\n",
    "    psi_boot = find_psi(bootstrap_data)\n",
    "    bootstrap_psi[i] = psi_boot\n",
    "    \n",
    "# calculating the quantile CI for psi:\n",
    "psi_q1 = np.quantile(bootstrap_psi, 0.025)\n",
    "psi_q2 = np.quantile(bootstrap_psi, 0.975)\n",
    "\n",
    "ci_a = (psi_q1, psi_q2)\n",
    "print(\"CI for psi = \", ci_a)"
   ]
  },
  {
   "cell_type": "markdown",
   "metadata": {},
   "source": [
    "#### 1.b."
   ]
  },
  {
   "cell_type": "markdown",
   "metadata": {},
   "source": [
    "We will use the example from the lecture on the Bayesian method, where we assume $Z_1, ..., Z_n $ ~ $Bernoulli(p)$ and a uniform prior. We showed that for a standard uniform prior, the posterior is $Beta(S+1, n-S+1)$ and therefore the posterior mean (and our estimator) is:\n",
    "\n",
    "$$ \\hat{p_j}= \\frac{S_j+1}{n+2}$$\n",
    "\n",
    "Where $S_j = \\sum_{i=1}^n Z_i \\cdot I(X_i = j)$."
   ]
  },
  {
   "cell_type": "code",
   "execution_count": 173,
   "metadata": {},
   "outputs": [
    {
     "name": "stdout",
     "output_type": "stream",
     "text": [
      "p1 estimator =  0.45180722891566266\n",
      "p2 estimator =  0.42105263157894735\n",
      "psi estimator =  0.12508233813799524\n"
     ]
    }
   ],
   "source": [
    "S_est_ex = observed_ex['Z'].sum()\n",
    "p1_est_b = (S_est_ex+1) / (num_ex+2)\n",
    "print(\"p1 estimator = \", p1_est_b)\n",
    "\n",
    "S_est_no_ex = observed_no_ex['Z'].sum()\n",
    "p2_est_b = (S_est_no_ex+1) / (num_no_ex+2)\n",
    "print(\"p2 estimator = \", p2_est_b)\n",
    "\n",
    "psi_b = nui(p1_est_b) - nui(p2_est_b)\n",
    "print(\"psi estimator = \", psi_b)"
   ]
  },
  {
   "cell_type": "markdown",
   "metadata": {},
   "source": [
    "For calculating the CI, we will draw samples of size $n$ from the posterior distribution which we previously described and calculate the estimator of each sample, and then calculate the CI from those estimators."
   ]
  },
  {
   "cell_type": "code",
   "execution_count": 174,
   "metadata": {},
   "outputs": [
    {
     "name": "stdout",
     "output_type": "stream",
     "text": [
      "CI for psi =  (-0.5834566288827503, 0.8135241948302363)\n"
     ]
    }
   ],
   "source": [
    "boot_b = np.zeros(B)\n",
    "\n",
    "# bootstrap for psi:\n",
    "for i in range(B):\n",
    "    p1_boot = stats.beta.rvs(S_est_ex+1, num_ex - S_est_ex + 1, size=1)\n",
    "    p2_boot = stats.beta.rvs(S_est_no_ex+1, num_no_ex - S_est_no_ex + 1, size=1)\n",
    "    psi_boot = nui(p1_boot) - nui(p2_boot)\n",
    "    boot_b[i] = psi_boot\n",
    "\n",
    "# calculating the quantile CI for psi:\n",
    "boot_q1_b = np.quantile(boot_b, 0.025)\n",
    "boot_q2_b = np.quantile(boot_b, 0.975)\n",
    "ci_b = (boot_q1_b, boot_q2_b)\n",
    "print(\"CI for psi = \", ci_b)"
   ]
  },
  {
   "cell_type": "markdown",
   "metadata": {},
   "source": [
    "#### 2.c."
   ]
  },
  {
   "cell_type": "markdown",
   "metadata": {},
   "source": [
    "Jeffery's prior is $\\sqrt{I(\\theta)}$ where $I(\\theta)$ is the Fisher information. \n",
    "\n",
    "we saw in the lecture that for $Z_1, ..., Z_n $ ~ $Bernoulli(p)$, $I(\\theta) = \\frac{1}{p(1-p)}$. Therefore, the Jeffery's prior is $\\sqrt{\\frac{1}{p(1-p)}}$.\n",
    "\n",
    "Now we can find the posterior distribution:\n",
    "$ f(p|X^n) \\propto p^S \\cdot (1-p)^{n-S} \\cdot \\sqrt{\\frac{1}{p(1-p)}} = p^{S-0.5} \\cdot (1-p)^{n-S-0.5} = p^{(S+0.5)-1} \\cdot (1-p)^{(n-S+0.5)-1}$ $\\propto$ $Beta(S+0.5, n-S+0.5)$\n",
    "\n",
    "Therefore, the posterior mean (and our estimator) is:\n",
    "$ \\hat{p} = E(p|X^n) = \\frac{S+0.5}{n+1} $"
   ]
  },
  {
   "cell_type": "code",
   "execution_count": 175,
   "metadata": {},
   "outputs": [
    {
     "name": "stdout",
     "output_type": "stream",
     "text": [
      "p1 estimator =  0.45151515151515154\n",
      "p2 estimator =  0.4189189189189189\n",
      "psi estimator =  0.13266218588804976\n"
     ]
    }
   ],
   "source": [
    "p1_est_c = (S_est_ex+0.5) / (num_ex+1)\n",
    "print(\"p1 estimator = \", p1_est_c)\n",
    "\n",
    "p2_est_c = (S_est_no_ex+0.5) / (num_no_ex+1)\n",
    "print(\"p2 estimator = \", p2_est_c)\n",
    "\n",
    "psi_c = nui(p1_est_c) - nui(p2_est_c)\n",
    "print(\"psi estimator = \", psi_c)"
   ]
  },
  {
   "cell_type": "code",
   "execution_count": 176,
   "metadata": {},
   "outputs": [
    {
     "name": "stdout",
     "output_type": "stream",
     "text": [
      "CI for psi =  (-0.6165343798875534, 0.8807120108577076)\n"
     ]
    }
   ],
   "source": [
    "boot_c = np.zeros(B)\n",
    "\n",
    "# bootstrap for psi:\n",
    "for i in range(B):\n",
    "    p1_boot = stats.beta.rvs(S_est_ex+0.5, num_ex - S_est_ex + 0.5, size=1)\n",
    "    p2_boot = stats.beta.rvs(S_est_no_ex+0.5, num_no_ex - S_est_no_ex + 0.5, size=1)\n",
    "    psi_boot = nui(p1_boot) - nui(p2_boot)\n",
    "    boot_c[i] = psi_boot\n",
    "\n",
    "# calculating the quantile CI for psi:\n",
    "boot_q1_c = np.quantile(boot_c, 0.025)\n",
    "boot_q2_c = np.quantile(boot_c, 0.975)\n",
    "ci_c = (boot_q1_c, boot_q2_c)\n",
    "print(\"CI for psi = \", ci_c)"
   ]
  },
  {
   "cell_type": "markdown",
   "metadata": {},
   "source": [
    "#### 2.d."
   ]
  },
  {
   "cell_type": "code",
   "execution_count": 177,
   "metadata": {},
   "outputs": [
    {
     "name": "stdout",
     "output_type": "stream",
     "text": [
      "Exercise prior ~ Beta ( 1.5208561893855748 , 0.8363827207033676 )\n",
      "No exercise prior ~ Beta ( 0.48501372682370125 , 0.16337575756491152 )\n"
     ]
    },
    {
     "name": "stderr",
     "output_type": "stream",
     "text": [
      "/opt/homebrew/lib/python3.10/site-packages/scipy/stats/_continuous_distns.py:719: RuntimeWarning: invalid value encountered in sqrt\n",
      "  sk = 2*(b-a)*np.sqrt(a + b + 1) / (a + b + 2) / np.sqrt(a*b)\n",
      "/opt/homebrew/lib/python3.10/site-packages/scipy/optimize/_minpack_py.py:177: RuntimeWarning: The iteration is not making good progress, as measured by the \n",
      "  improvement from the last ten iterations.\n",
      "  warnings.warn(msg, RuntimeWarning)\n"
     ]
    }
   ],
   "source": [
    "from scipy.stats import beta\n",
    "\n",
    "# transform past data:\n",
    "past_data['Z'] = past_data['Weight_(kg)'].apply(dichotomization)\n",
    "past_ex = past_data[past_data['Exercise'] == 'Yes']\n",
    "past_no_ex = past_data[past_data['Exercise'] == 'No']\n",
    "\n",
    "# fit beta distribution to past data:\n",
    "alpha1, beta1, _, _ = beta.fit(past_ex['Z'])\n",
    "alpha2, beta2, _, _ = beta.fit(past_no_ex['Z'])\n",
    "\n",
    "print(\"Exercise prior ~ Beta (\", alpha1, \",\", beta1, \")\")\n",
    "print(\"No exercise prior ~ Beta (\", alpha2, \",\", beta2, \")\")\n"
   ]
  },
  {
   "cell_type": "markdown",
   "metadata": {},
   "source": [
    "Like we saw in the HW for beta prior and binomial likelihood, he posterior distribution is:\n",
    "\n",
    "$$ p_i | X^n \\sim Beta(\\alpha_i + S_i, \\beta_i + n - S_i) $$\n",
    "\n",
    "Therefore, the posterior mean (and our estimator) is:\n",
    "$$ \\hat{p_i} = \\frac{\\alpha_i + S_i}{\\alpha_i + \\beta_i + n} $$"
   ]
  },
  {
   "cell_type": "code",
   "execution_count": 178,
   "metadata": {},
   "outputs": [
    {
     "name": "stdout",
     "output_type": "stream",
     "text": [
      "p1 estimator =  0.4539679588587204\n",
      "p2 estimator =  0.42252917371498594\n",
      "psi estimator =  0.1277483921558723\n"
     ]
    }
   ],
   "source": [
    "p1_est_d = (S_est_ex + alpha1) / (num_ex + alpha1 + beta1)\n",
    "print(\"p1 estimator = \", p1_est_d)\n",
    "\n",
    "p2_est_d = (S_est_no_ex + alpha2) / (num_no_ex + alpha2 + beta2)\n",
    "print(\"p2 estimator = \", p2_est_d)\n",
    "\n",
    "psi_d = nui(p1_est_d) - nui(p2_est_d)\n",
    "print(\"psi estimator = \", psi_d)"
   ]
  },
  {
   "cell_type": "code",
   "execution_count": 179,
   "metadata": {},
   "outputs": [
    {
     "name": "stdout",
     "output_type": "stream",
     "text": [
      "CI for psi =  (-0.6045594786436314, 0.8682311999592438)\n"
     ]
    }
   ],
   "source": [
    "boot_d = np.zeros(B)\n",
    "\n",
    "# bootstrap for psi:\n",
    "for i in range(B):\n",
    "    p1_boot = stats.beta.rvs(S_est_ex + alpha1, beta1 + num_ex - S_est_ex, size=1)\n",
    "    p2_boot = stats.beta.rvs(S_est_no_ex + alpha2, beta2 + num_no_ex - S_est_no_ex, size=1)\n",
    "    psi_boot = nui(p1_boot) - nui(p2_boot)\n",
    "    boot_d[i] = psi_boot\n",
    "\n",
    "# calculating the quantile CI for psi:\n",
    "boot_q1_d = np.quantile(boot_d, 0.025)\n",
    "boot_q2_d = np.quantile(boot_d, 0.975)\n",
    "ci_d = (boot_q1_d, boot_q2_d)\n",
    "print(\"CI for psi = \", ci_d)"
   ]
  },
  {
   "cell_type": "markdown",
   "metadata": {},
   "source": [
    "#### 2.e.\n",
    "\n",
    "All the psi estimators are similar, and close to -0.21. The estimator based on past data is actually the most different, close to -0.25.\n",
    "\n",
    "All the ci's are also quite similar, and contain zero. Therefore, based on the current data and exploration methods, we can't say that we found a significant difference between the two populations."
   ]
  },
  {
   "cell_type": "markdown",
   "metadata": {},
   "source": [
    "## Part B - Missing Data"
   ]
  },
  {
   "cell_type": "markdown",
   "metadata": {},
   "source": [
    "**Research question:** Do changes in exercise (binary), sex (binary), and height (continuous), influence weight?"
   ]
  },
  {
   "cell_type": "markdown",
   "metadata": {},
   "source": [
    "### 1."
   ]
  },
  {
   "cell_type": "code",
   "execution_count": 180,
   "metadata": {},
   "outputs": [],
   "source": [
    "# Get a sample of 1000 from the data:\n",
    "N = 1000\n",
    "dataB = full_data[['Exercise', 'Sex', 'Height_(cm)', 'Weight_(kg)']]\n",
    "sample = dataB.sample(N)\n",
    "\n",
    "# Transform categorical variables to numeric:\n",
    "sex_values = sample['Sex'].apply(lambda x: 1 if x == 'Male' else 0)\n",
    "exercise_values = sample['Exercise'].apply(lambda x: 1 if x == 'Yes' else 0)\n",
    "\n",
    "# Create X matrix with a column of ones, and parameters:\n",
    "x1 = np.concatenate((np.ones((N,1)), np.array(exercise_values).reshape(-1,1)), axis=1)\n",
    "x2 = np.concatenate((x1, np.array(sex_values).reshape(-1,1)), axis=1)\n",
    "X = np.concatenate((x2, np.array(sample.iloc[:, 2:3])), axis=1)\n",
    "\n",
    "# Create y vector:\n",
    "y = np.array(sample.iloc[:, 3]).reshape(-1,1)"
   ]
  },
  {
   "cell_type": "code",
   "execution_count": 181,
   "metadata": {},
   "outputs": [
    {
     "name": "stdout",
     "output_type": "stream",
     "text": [
      "Number of missing values in X:  0\n",
      "Number of missing values in y:  0\n"
     ]
    }
   ],
   "source": [
    "# show there are no missing values:\n",
    "print(\"Number of missing values in X: \", np.isnan(X).sum())\n",
    "print(\"Number of missing values in y: \", np.isnan(y).sum())"
   ]
  },
  {
   "cell_type": "markdown",
   "metadata": {},
   "source": [
    "### 2."
   ]
  },
  {
   "cell_type": "code",
   "execution_count": 182,
   "metadata": {},
   "outputs": [
    {
     "name": "stdout",
     "output_type": "stream",
     "text": [
      "beta 0 = -0.0553\n",
      "beta 0 CI: (-0.0976, -0.0129)\n",
      "beta 1 = -0.0337\n",
      "beta 1 CI: (-0.0442, -0.0233)\n",
      "beta 2 = 0.0017\n",
      "beta 2 CI: (-0.0107, 0.0140)\n",
      "beta 3 = 0.5645\n",
      "beta 3 CI: (0.4774, 0.6516)\n"
     ]
    }
   ],
   "source": [
    "# Calculate the estimated coefficients from equation:\n",
    "beta = np.linalg.inv(X.T @ X) @ X.T @ y\n",
    "p = len(beta)\n",
    "\n",
    "# Find normal estimated CI:\n",
    "var_eps = (1/(N - p)) * np.sum((y - X @ beta)**2)\n",
    "C = np.linalg.inv(X.T @ X)\n",
    "se_beta = np.sqrt(var_eps * np.diag(C))\n",
    "z_score = stats.norm.ppf(0.975)\n",
    "\n",
    "ci_list_part2_lower = []\n",
    "ci_list_part2_upper = []\n",
    "\n",
    "for i, b in enumerate(beta):\n",
    "    ci = (b - z_score * se_beta[i], b + z_score * se_beta[i])\n",
    "    ci_list_part2_lower.append(ci[0][0])\n",
    "    ci_list_part2_upper.append(ci[1][0])\n",
    "    print(f\"beta {i} = {b[0]:.4f}\")\n",
    "    print(f\"beta {i} CI: ({ci[0][0]:.4f}, {ci[1][0]:.4f})\")"
   ]
  },
  {
   "cell_type": "markdown",
   "metadata": {},
   "source": [
    "### 3."
   ]
  },
  {
   "cell_type": "markdown",
   "metadata": {},
   "source": [
    "We will delete the i-th largest y with a probability of $ p = \\frac{i}{n} $, where $n$ is the number of observations.\n",
    "This way, the larger the value of y the higher the probability of deleting it."
   ]
  },
  {
   "cell_type": "code",
   "execution_count": 183,
   "metadata": {},
   "outputs": [
    {
     "name": "stdout",
     "output_type": "stream",
     "text": [
      "Number of missing values in new y:  512\n"
     ]
    }
   ],
   "source": [
    "sorted_indices = np.argsort(y, axis=0)\n",
    "new_y = y.copy()\n",
    "\n",
    "for i in sorted_indices:\n",
    "    p_i = i[0]/N\n",
    "    ber_res = np.random.choice([0, 1], size=1, p=[1-p_i, p_i])\n",
    "    if ber_res == 1:\n",
    "        new_y[i] = None\n",
    "    else:\n",
    "        new_y[i] = y[i]\n",
    "\n",
    "print(\"Number of missing values in new y: \", np.isnan(new_y).sum())"
   ]
  },
  {
   "cell_type": "markdown",
   "metadata": {},
   "source": [
    "### 4."
   ]
  },
  {
   "cell_type": "markdown",
   "metadata": {},
   "source": [
    "#### 4.a."
   ]
  },
  {
   "cell_type": "code",
   "execution_count": 184,
   "metadata": {},
   "outputs": [
    {
     "name": "stdout",
     "output_type": "stream",
     "text": [
      "(488, 4)\n",
      "(488, 1)\n"
     ]
    }
   ],
   "source": [
    "# Remove rows with missing values:\n",
    "X_a = np.array([x for x, y in zip(X, new_y) if not np.isnan(y)])\n",
    "y_a = np.array([y for x, y in zip(X, new_y) if not np.isnan(y)])\n",
    "print(X_a.shape)\n",
    "print(y_a.shape)"
   ]
  },
  {
   "cell_type": "code",
   "execution_count": 185,
   "metadata": {},
   "outputs": [
    {
     "name": "stdout",
     "output_type": "stream",
     "text": [
      "beta 0 = -0.0698\n",
      "beta 0 CI: (-0.1290, -0.0106)\n",
      "beta 1 = -0.0376\n",
      "beta 1 CI: (-0.0524, -0.0227)\n",
      "beta 2 = -0.0087\n",
      "beta 2 CI: (-0.0268, 0.0095)\n",
      "beta 3 = 0.6067\n",
      "beta 3 CI: (0.4824, 0.7310)\n"
     ]
    }
   ],
   "source": [
    "# Calculate the estimated coefficients from equation:\n",
    "beta_a = np.linalg.inv(X_a.T @ X_a) @ X_a.T @ y_a\n",
    "p = len(beta_a)\n",
    "n_a = X_a.shape[0]\n",
    "\n",
    "# Find normal estimated CI:\n",
    "var_eps_a = (1/(n_a - p)) * np.sum((y_a - X_a @ beta_a)**2)\n",
    "C_a = np.linalg.inv(X_a.T @ X_a)\n",
    "se_beta_a = np.sqrt(var_eps_a * np.diag(C_a))\n",
    "ci_list_a_lower = []\n",
    "ci_list_a_upper = []\n",
    "\n",
    "for i, b in enumerate(beta_a):\n",
    "    ci = (b - z_score * se_beta_a[i], b + z_score * se_beta_a[i])\n",
    "    ci_list_a_lower.append(ci[0][0])\n",
    "    ci_list_a_upper.append(ci[1][0])\n",
    "    print(f\"beta {i} = {b[0]:.4f}\")\n",
    "    print(f\"beta {i} CI: ({ci[0][0]:.4f}, {ci[1][0]:.4f})\")"
   ]
  },
  {
   "cell_type": "markdown",
   "metadata": {},
   "source": [
    "#### 4.b."
   ]
  },
  {
   "cell_type": "code",
   "execution_count": 186,
   "metadata": {},
   "outputs": [
    {
     "name": "stdout",
     "output_type": "stream",
     "text": [
      "Number of missing values in y_b:  0\n"
     ]
    }
   ],
   "source": [
    "# Complete the missing values with regression imputation:\n",
    "y_b = new_y.copy()\n",
    "\n",
    "for i in range(len(y_b)):\n",
    "    yi = y_b[i]\n",
    "    if np.isnan(yi):\n",
    "        y_b[i] = X[i,:] @ beta_a\n",
    "\n",
    "print(\"Number of missing values in y_b: \", np.isnan(y_b).sum())"
   ]
  },
  {
   "cell_type": "code",
   "execution_count": 187,
   "metadata": {},
   "outputs": [
    {
     "name": "stdout",
     "output_type": "stream",
     "text": [
      "beta 0 = -0.0698\n",
      "beta 0 CI: (-0.0996, -0.0401)\n",
      "beta 1 = -0.0376\n",
      "beta 1 CI: (-0.0449, -0.0302)\n",
      "beta 2 = -0.0087\n",
      "beta 2 CI: (-0.0174, 0.0000)\n",
      "beta 3 = 0.6067\n",
      "beta 3 CI: (0.5455, 0.6679)\n"
     ]
    }
   ],
   "source": [
    "# Calculate the estimated coefficients from equation:\n",
    "beta_b = np.linalg.inv(X.T @ X) @ X.T @ y_b\n",
    "\n",
    "# Find normal estimated CI:\n",
    "var_eps_b = (1/(N - p)) * np.sum((y_b - X @ beta_b)**2)\n",
    "C_b = np.linalg.inv(X.T @ X)\n",
    "se_beta_b = np.sqrt(var_eps_b * np.diag(C_b))\n",
    "ci_list_b_lower = []\n",
    "ci_list_b_upper = []\n",
    "\n",
    "for i, b in enumerate(beta_b):\n",
    "    ci = (b - z_score * se_beta_b[i], b + z_score * se_beta_b[i])\n",
    "    ci_list_b_lower.append(ci[0][0])\n",
    "    ci_list_b_upper.append(ci[1][0])\n",
    "    print(f\"beta {i} = {b[0]:.4f}\")\n",
    "    print(f\"beta {i} CI: ({ci[0][0]:.4f}, {ci[1][0]:.4f})\")"
   ]
  },
  {
   "cell_type": "markdown",
   "metadata": {},
   "source": [
    "Notice the beta coefficients are identical to part a, because we used the model we predicted in part a on the existing data.\n",
    "\n",
    "The CI's are smaller than in part a because we artificially created data and by doing so we reduced the variance."
   ]
  },
  {
   "cell_type": "markdown",
   "metadata": {},
   "source": [
    "#### 4.c."
   ]
  },
  {
   "cell_type": "code",
   "execution_count": 188,
   "metadata": {},
   "outputs": [
    {
     "name": "stdout",
     "output_type": "stream",
     "text": [
      "beta 0 = -0.0698\n",
      "beta 1 = -0.0376\n",
      "beta 2 = -0.0087\n",
      "beta 3 = 0.6066\n"
     ]
    }
   ],
   "source": [
    "# complete the missing values with multiple imputation:\n",
    "M = 1000\n",
    "boot_M = np.zeros((M, p))\n",
    "\n",
    "var_c = (1/(N - p)) * np.sum((y_a - X_a @ beta_a)**2)\n",
    "y_predicted = X @ beta_a\n",
    "\n",
    "# for each iteration, draw a new y vector, such that each entry is drawn from a normal distribution with its predicted y and the variance of the residuals.\n",
    "for i in range(M):\n",
    "    y_temp = stats.norm.rvs(loc=y_predicted, scale=var_c)\n",
    "    beta_temp = np.linalg.inv(X.T @ X) @ X.T @ y_temp\n",
    "    boot_M[i,:] = beta_temp.reshape(-1)\n",
    "    \n",
    "beta_c = np.mean(boot_M, axis=0)\n",
    "for i, b in enumerate(beta_c):\n",
    "    print(f\"beta {i} = {b:.4f}\")\n"
   ]
  },
  {
   "cell_type": "markdown",
   "metadata": {},
   "source": [
    "#### 4.d."
   ]
  },
  {
   "cell_type": "code",
   "execution_count": 189,
   "metadata": {},
   "outputs": [
    {
     "name": "stdout",
     "output_type": "stream",
     "text": [
      "[0.11680789 0.11680577 0.11680581 0.11681529]\n",
      "beta 0 = -0.0698\n",
      "beta 0 CI: (-0.2987, 0.1592)\n",
      "beta 1 = -0.0376\n",
      "beta 1 CI: (-0.2665, 0.1914)\n",
      "beta 2 = -0.0087\n",
      "beta 2 CI: (-0.2376, 0.2203)\n",
      "beta 3 = 0.6066\n",
      "beta 3 CI: (0.3777, 0.8356)\n"
     ]
    }
   ],
   "source": [
    "C_c = np.linalg.inv(X.T @ X)\n",
    "se_beta_c = np.sqrt(var_c * np.diag(C_c))\n",
    "\n",
    "# using the rubin formula:\n",
    "var_d = np.mean(se_beta_c) + (M+1)/(M*(M-1)) * np.sum((boot_M - beta_c)**2, axis=0)\n",
    "se_beta_d = np.sqrt(var_d)\n",
    "print(se_beta_d)\n",
    "\n",
    "# Find normal estimated CI:\n",
    "ci_list_d_lower = []\n",
    "ci_list_d_upper = []\n",
    "\n",
    "for i, b in enumerate(beta_c):\n",
    "    ci = (b - z_score * se_beta_d[i], b + z_score * se_beta_d[i])\n",
    "    ci_list_d_lower.append(ci[0])\n",
    "    ci_list_d_upper.append(ci[1])\n",
    "    print(f\"beta {i} = {b:.4f}\")\n",
    "    print(f\"beta {i} CI: ({ci[0]:.4f}, {ci[1]:.4f})\")"
   ]
  },
  {
   "cell_type": "markdown",
   "metadata": {},
   "source": [
    "#### 4.e."
   ]
  },
  {
   "cell_type": "code",
   "execution_count": 190,
   "metadata": {},
   "outputs": [
    {
     "name": "stdout",
     "output_type": "stream",
     "text": [
      "     True R  R=0 pred  R=1 pred\n",
      "862       0  0.526513  0.473487\n",
      "691       0  0.526513  0.473487\n",
      "679       0  0.478668  0.521332\n",
      "455       0  0.476597  0.523403\n",
      "49        1  0.524442  0.475558\n",
      "634       1  0.476995  0.523005\n",
      "504       0  0.484196  0.515804\n",
      "865       0  0.528184  0.471816\n",
      "285       0  0.512697  0.487303\n",
      "205       1  0.515754  0.484246\n"
     ]
    }
   ],
   "source": [
    "from sklearn.linear_model import LogisticRegression\n",
    "\n",
    "# define R indicator for missing values:\n",
    "R = np.array([0 if np.isnan(new_y) else 1 for new_y in new_y]).reshape(-1,1)\n",
    "\n",
    "# fit logistic regression model:\n",
    "clf = LogisticRegression().fit(X, R.ravel())\n",
    "R_pred = clf.predict_proba(X)\n",
    "\n",
    "# show results:\n",
    "df_res_e = pd.DataFrame({'True R': R.ravel(), 'R=0 pred': R_pred[:,0], 'R=1 pred': R_pred[:,1]})\n",
    "print(df_res_e.sample(10))"
   ]
  },
  {
   "cell_type": "markdown",
   "metadata": {},
   "source": [
    "#### 4.f."
   ]
  },
  {
   "cell_type": "markdown",
   "metadata": {},
   "source": [
    "The linear regression problem as a minimization problem is:\n",
    "$$ \\min_{\\beta} \\sum_{i=1}^n R_i \\cdot (y_i - \\beta^T x_i)^2 $$\n",
    "\n",
    "Using Inverse Probability Weighting, we get:\n",
    "$$ \\min_{\\beta} \\sum_{i=1}^n \\frac{R_i}{\\pi(X)} \\cdot (y_i - \\beta^T x_i)^2 $$\n",
    "\n",
    "where $\\pi(X) = P(R=1|X)$.\n"
   ]
  },
  {
   "cell_type": "code",
   "execution_count": 191,
   "metadata": {},
   "outputs": [
    {
     "name": "stdout",
     "output_type": "stream",
     "text": [
      "beta 0 = -0.0708\n",
      "beta 1 = -0.0375\n",
      "beta 2 = -0.0088\n",
      "beta 3 = 0.6086\n"
     ]
    }
   ],
   "source": [
    "from sklearn.linear_model import LinearRegression\n",
    "\n",
    "# solve the minimization problem using linear regression:\n",
    "r1_indices = df_res_e[df_res_e['True R'] == 1].index\n",
    "pi_x = df_res_e['R=1 pred'][r1_indices]\n",
    "\n",
    "linear_model = LinearRegression(fit_intercept=False).fit(X_a, y_a, 1/pi_x)\n",
    "\n",
    "beta_f = linear_model.coef_[0]\n",
    "for i, b in enumerate(beta_f):\n",
    "    print(f\"beta {i} = {b:.4f}\")"
   ]
  },
  {
   "cell_type": "markdown",
   "metadata": {},
   "source": [
    "#### 4.g."
   ]
  },
  {
   "cell_type": "code",
   "execution_count": 192,
   "metadata": {},
   "outputs": [
    {
     "name": "stdout",
     "output_type": "stream",
     "text": [
      "beta 0 = -0.0713\n",
      "beta 0 CI: (-0.1271, -0.0188)\n",
      "beta 1 = -0.0380\n",
      "beta 1 CI: (-0.0567, -0.0206)\n",
      "beta 2 = -0.0087\n",
      "beta 2 CI: (-0.0279, 0.0105)\n",
      "beta 3 = 0.6104\n",
      "beta 3 CI: (0.4884, 0.7406)\n"
     ]
    }
   ],
   "source": [
    "boot_g = np.zeros((M, p))\n",
    "\n",
    "# bootstrap for beta with IPW:\n",
    "for i in range(B):\n",
    "    indices = np.random.choice(new_y.shape[0], size=len(new_y), replace=True)\n",
    "    X_temp = np.array([x for x, y in zip(X[indices], new_y[indices]) if not np.isnan(y)])\n",
    "    y_temp = np.array([y for y in new_y[indices] if not np.isnan(y)])\n",
    "    R_pred = clf.predict_proba(X_temp)\n",
    "\n",
    "    linear_model = LinearRegression(fit_intercept=False).fit(X_temp, y_temp, 1/R_pred[:,1])\n",
    "    beta_temp = linear_model.coef_[0]\n",
    "    boot_g[i,:] = beta_temp.reshape(-1)\n",
    "\n",
    "# calculating the quantile CI for beta:\n",
    "beta_g = np.mean(boot_g, axis=0)\n",
    "quantile1_g = np.quantile(boot_g, 0.025, axis=0)\n",
    "quantile2_g = np.quantile(boot_g, 0.975, axis=0)\n",
    "\n",
    "for i, b in enumerate(beta_g):\n",
    "    print(f\"beta {i} = {b:.4f}\")\n",
    "    print(f\"beta {i} CI: ({quantile1_g[i]:.4f}, {quantile2_g[i]:.4f})\")"
   ]
  },
  {
   "cell_type": "markdown",
   "metadata": {},
   "source": [
    "#### 4.h."
   ]
  },
  {
   "cell_type": "markdown",
   "metadata": {},
   "source": [
    "**I)**\n",
    "\n",
    "The results from question 2 are pretty similar to the results we got at question 4. \n",
    "\n",
    "The coefficients are mostly similar, and so are the CI's.\n",
    "\n",
    "Our conclusion is that our assumed models are successful at capturing the nature of our data. Specifically, the linear regression model is successful at predicting the weight of a person based on the other features."
   ]
  },
  {
   "cell_type": "markdown",
   "metadata": {},
   "source": [
    "**II)**"
   ]
  },
  {
   "cell_type": "code",
   "execution_count": 205,
   "metadata": {},
   "outputs": [
    {
     "data": {
      "image/png": "[encoded data removed]",
      "text/plain": [
       "<Figure size 640x480 with 1 Axes>"
      ]
     },
     "metadata": {},
     "output_type": "display_data"
    }
   ],
   "source": [
    "# show results for part g:\n",
    "plt.errorbar(range(p), beta_g, yerr=[beta_g - quantile1_g, quantile2_g - beta_g], fmt='o', capsize=5)\n",
    "plt.plot(range(p), np.zeros(p), 'k--')\n",
    "plt.xticks(range(p)) \n",
    "plt.xlabel('beta index')\n",
    "plt.ylabel('beta value')\n",
    "plt.title(\"Beta Estimators and CI's - Part 4.g.\")\n",
    "plt.show()"
   ]
  },
  {
   "cell_type": "markdown",
   "metadata": {},
   "source": [
    "We can see that for part g, $\\beta_{0}, \\beta_{1}, \\beta_{3}$ are significant, and $\\beta_{2}$ is not significant. "
   ]
  },
  {
   "cell_type": "markdown",
   "metadata": {},
   "source": [
    "**Full comparison:**"
   ]
  },
  {
   "cell_type": "code",
   "execution_count": 210,
   "metadata": {},
   "outputs": [
    {
     "data": {
      "image/png": "[encoded data removed]",
      "text/plain": [
       "<Figure size 640x480 with 1 Axes>"
      ]
     },
     "metadata": {},
     "output_type": "display_data"
    }
   ],
   "source": [
    "offset = 0.12\n",
    "capsize = 4\n",
    "plt.title(\"All Beta Estimators and CI's\")\n",
    "\n",
    "# part 2:\n",
    "beta_plot = beta.reshape(-1)\n",
    "plt.errorbar([x - 2*offset for x in range(p)], beta_plot, yerr=[beta_plot - ci_list_part2_lower, ci_list_part2_upper - beta_plot], fmt='o', capsize=capsize, label='No Missing Data')\n",
    "\n",
    "# part 4.a:\n",
    "beta_a_plot = beta_a.reshape(-1)\n",
    "plt.errorbar([x - offset for x in range(p)], beta_a_plot, yerr=[beta_a_plot - ci_list_a_lower, ci_list_a_upper - beta_a_plot], fmt='o', capsize=capsize, label='Missing Data')\n",
    "\n",
    "# part 4.b:\n",
    "beta_b_plot = beta_b.reshape(-1)\n",
    "plt.errorbar(range(p), beta_b_plot, yerr=[beta_b_plot - ci_list_b_lower, ci_list_b_upper - beta_b_plot], fmt='o', capsize=capsize, label='Regression Imputation')\n",
    "\n",
    "# part 4.d:\n",
    "beta_d_plot = beta_c.reshape(-1)\n",
    "plt.errorbar([x + offset for x in range(p)], beta_d_plot, yerr=[beta_d_plot - ci_list_d_lower, ci_list_d_upper - beta_d_plot], fmt='o', capsize=capsize, label='Multiple Imputation')\n",
    "\n",
    "# part 4.g.:\n",
    "plt.errorbar([x + 2*offset for x in range(p)], beta_g, yerr=[beta_g - quantile1_g, quantile2_g - beta_g], fmt='o', capsize=capsize, label='IPW')\n",
    "\n",
    "plt.plot([x+0.5 for x in range(-1, 4)], np.zeros(5), 'k--')\n",
    "\n",
    "plt.xticks(range(p)) \n",
    "plt.xlabel('beta index')\n",
    "plt.ylabel('beta value')\n",
    "plt.legend()\n",
    "plt.show()"
   ]
  },
  {
   "cell_type": "markdown",
   "metadata": {},
   "source": [
    "We can see that the result are similar for all methods: \n",
    "* $\\beta_{0}, \\beta_{1}$ are usually significant, but closer to 0.\n",
    "* $\\beta_{2}$ is not significant and very close to zero. \n",
    "* $\\beta_{3}$ is very significant.\n",
    "\n",
    "The exception is the multiple impuation method that has very large CI's, so $\\beta_{0}$ and $\\beta_{1}$ are also not significant."
   ]
  }
 ],
 "metadata": {
  "kernelspec": {
   "display_name": "Python 3",
   "language": "python",
   "name": "python3"
  },
  "language_info": {
   "codemirror_mode": {
    "name": "ipython",
    "version": 3
   },
   "file_extension": ".py",
   "mimetype": "text/x-python",
   "name": "python",
   "nbconvert_exporter": "python",
   "pygments_lexer": "ipython3",
   "version": "3.10.12"
  },
  "orig_nbformat": 4
 },
 "nbformat": 4,
 "nbformat_minor": 2
}
