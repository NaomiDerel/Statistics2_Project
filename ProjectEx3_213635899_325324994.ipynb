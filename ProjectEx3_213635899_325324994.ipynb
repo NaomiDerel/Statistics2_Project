{
 "cells": [
  {
   "cell_type": "markdown",
   "metadata": {},
   "source": [
    "# Statistics Project - Assignment 3\n",
    "\n",
    "Gur Keinan, 213635899\n",
    "\n",
    "Naomi Derel, 325324994"
   ]
  },
  {
   "cell_type": "markdown",
   "metadata": {},
   "source": [
    "## Data & Transformations (previous assignments)"
   ]
  },
  {
   "cell_type": "markdown",
   "metadata": {},
   "source": [
    "We picked the \"Cardiovascular Diseases Risk Prediction Dataset\".\n",
    "\n",
    "https://www.kaggle.com/datasets/alphiree/cardiovascular-diseases-risk-prediction-dataset?resource=download"
   ]
  },
  {
   "cell_type": "code",
   "execution_count": 1,
   "metadata": {},
   "outputs": [],
   "source": [
    "import numpy as np\n",
    "import pandas as pd\n",
    "import matplotlib.pyplot as plt\n",
    "import scipy.stats as stats\n",
    "\n",
    "np.random.seed(1012)\n",
    "\n",
    "data = pd.read_csv('CVD_cleaned.csv')\n",
    "\n",
    "# transformation 1:\n",
    "data.loc[data[\"Diabetes\"] ==\n",
    "         'No, pre-diabetes or borderline diabetes', \"Diabetes\"] = 'at risk'\n",
    "data = data[data[\"Diabetes\"] != 'Yes, but female told only during pregnancy']\n",
    "\n",
    "# transformation 2:\n",
    "data[\"Numerical_Age_Category\"] = data[\"Age_Category\"].apply(\n",
    "    lambda x: int(x[:2]))\n"
   ]
  },
  {
   "cell_type": "markdown",
   "metadata": {},
   "source": [
    "## Part A - Linear Regression"
   ]
  },
  {
   "cell_type": "markdown",
   "metadata": {},
   "source": [
    "### 1.\n",
    "\n",
    "Do changes in exercise (binary), sex (binary), green vegetables consumption (ordinal), and height (continuous), influence weight?"
   ]
  },
  {
   "cell_type": "markdown",
   "metadata": {},
   "source": [
    "### 2."
   ]
  },
  {
   "cell_type": "code",
   "execution_count": 2,
   "metadata": {},
   "outputs": [
    {
     "data": {
      "text/html": [
       "<div>\n",
       "<style scoped>\n",
       "    .dataframe tbody tr th:only-of-type {\n",
       "        vertical-align: middle;\n",
       "    }\n",
       "\n",
       "    .dataframe tbody tr th {\n",
       "        vertical-align: top;\n",
       "    }\n",
       "\n",
       "    .dataframe thead th {\n",
       "        text-align: right;\n",
       "    }\n",
       "</style>\n",
       "<table border=\"1\" class=\"dataframe\">\n",
       "  <thead>\n",
       "    <tr style=\"text-align: right;\">\n",
       "      <th></th>\n",
       "      <th>Exercise</th>\n",
       "      <th>Sex</th>\n",
       "      <th>Green_Vegetables_Consumption</th>\n",
       "      <th>Height_(cm)</th>\n",
       "      <th>Weight_(kg)</th>\n",
       "    </tr>\n",
       "  </thead>\n",
       "  <tbody>\n",
       "    <tr>\n",
       "      <th>102725</th>\n",
       "      <td>Yes</td>\n",
       "      <td>Female</td>\n",
       "      <td>60.0</td>\n",
       "      <td>168.0</td>\n",
       "      <td>72.57</td>\n",
       "    </tr>\n",
       "    <tr>\n",
       "      <th>195809</th>\n",
       "      <td>No</td>\n",
       "      <td>Female</td>\n",
       "      <td>4.0</td>\n",
       "      <td>155.0</td>\n",
       "      <td>59.87</td>\n",
       "    </tr>\n",
       "    <tr>\n",
       "      <th>65238</th>\n",
       "      <td>Yes</td>\n",
       "      <td>Male</td>\n",
       "      <td>12.0</td>\n",
       "      <td>180.0</td>\n",
       "      <td>65.77</td>\n",
       "    </tr>\n",
       "    <tr>\n",
       "      <th>167460</th>\n",
       "      <td>Yes</td>\n",
       "      <td>Female</td>\n",
       "      <td>16.0</td>\n",
       "      <td>155.0</td>\n",
       "      <td>62.14</td>\n",
       "    </tr>\n",
       "    <tr>\n",
       "      <th>295267</th>\n",
       "      <td>Yes</td>\n",
       "      <td>Female</td>\n",
       "      <td>16.0</td>\n",
       "      <td>157.0</td>\n",
       "      <td>59.87</td>\n",
       "    </tr>\n",
       "  </tbody>\n",
       "</table>\n",
       "</div>"
      ],
      "text/plain": [
       "       Exercise     Sex  Green_Vegetables_Consumption  Height_(cm)  \\\n",
       "102725      Yes  Female                          60.0        168.0   \n",
       "195809       No  Female                           4.0        155.0   \n",
       "65238       Yes    Male                          12.0        180.0   \n",
       "167460      Yes  Female                          16.0        155.0   \n",
       "295267      Yes  Female                          16.0        157.0   \n",
       "\n",
       "        Weight_(kg)  \n",
       "102725        72.57  \n",
       "195809        59.87  \n",
       "65238         65.77  \n",
       "167460        62.14  \n",
       "295267        59.87  "
      ]
     },
     "execution_count": 2,
     "metadata": {},
     "output_type": "execute_result"
    }
   ],
   "source": [
    "small_data = data[['Exercise', 'Sex',\n",
    "                   'Green_Vegetables_Consumption', 'Height_(cm)', 'Weight_(kg)']]\n",
    "sample = small_data.sample(200)\n",
    "sample.head()"
   ]
  },
  {
   "cell_type": "markdown",
   "metadata": {},
   "source": [
    "### 3.\n",
    "\n",
    "We will answer each sub-part for each variable separately."
   ]
  },
  {
   "cell_type": "markdown",
   "metadata": {},
   "source": [
    "#### **Exercise:** (binary)\n",
    "\n",
    "#a:"
   ]
  },
  {
   "cell_type": "code",
   "execution_count": 3,
   "metadata": {},
   "outputs": [
    {
     "name": "stdout",
     "output_type": "stream",
     "text": [
      "Exercise\n",
      "No        36\n",
      "Yes      164\n",
      "Total    200\n",
      "Name: Weight_(kg), dtype: int64\n"
     ]
    }
   ],
   "source": [
    "exercise_res = sample.groupby('Exercise').count()['Weight_(kg)']\n",
    "exercise_res['Total'] = exercise_res.sum()\n",
    "print(exercise_res)\n"
   ]
  },
  {
   "cell_type": "markdown",
   "metadata": {},
   "source": [
    "#b:\n",
    "\n",
    "* We can see there are no missing values in the exercise column (a total of 200). \n",
    "* Since the values are binary, there are no outliers.\n",
    "* The labels are not balanced.\n",
    "* Since the values are binary, if independent from the data they are distributed bernoulli. From our knowledge of the domain we cannot assume they are independent from the data."
   ]
  },
  {
   "cell_type": "markdown",
   "metadata": {},
   "source": [
    "#d:"
   ]
  },
  {
   "cell_type": "code",
   "execution_count": 4,
   "metadata": {},
   "outputs": [
    {
     "data": {
      "text/plain": [
       "Text(0, 0.5, 'Population Count')"
      ]
     },
     "execution_count": 4,
     "metadata": {},
     "output_type": "execute_result"
    },
    {
     "data": {
      "image/png": "[encoded data removed]",
      "text/plain": [
       "<Figure size 1200x600 with 2 Axes>"
      ]
     },
     "metadata": {},
     "output_type": "display_data"
    }
   ],
   "source": [
    "# divide the sample into two groups:\n",
    "sample_exercise = sample[sample['Exercise'] == 'Yes']\n",
    "sample_no_exercise = sample[sample['Exercise'] == 'No']\n",
    "\n",
    "# plot a histogram of the weight distribution for each group:\n",
    "\n",
    "fig, axes = plt.subplots(nrows=1, ncols=2, figsize=(12, 6))\n",
    "fig.suptitle('Weight Distribution by Exercise')\n",
    "\n",
    "axes[0].hist(sample_exercise['Weight_(kg)'], alpha=0.5,\n",
    "             label='Exercise', color='green', bins=15)\n",
    "axes[0].set_title('Exercise')\n",
    "axes[0].set_xlabel('Weight (kg)')\n",
    "axes[0].set_ylabel('Population Count')\n",
    "\n",
    "axes[1].hist(sample_no_exercise['Weight_(kg)'], alpha=0.7,\n",
    "             label='No Exercise', color='orange', bins=15)\n",
    "axes[1].set_title('No Exercise')\n",
    "axes[1].set_xlabel('Weight (kg)')\n",
    "axes[1].set_ylabel('Population Count')"
   ]
  },
  {
   "cell_type": "markdown",
   "metadata": {},
   "source": [
    "The exercise data has more values in lower weight ranges than the no-exercise data."
   ]
  },
  {
   "cell_type": "markdown",
   "metadata": {},
   "source": [
    "#### **Sex:** (binary)\n",
    "\n",
    "a:"
   ]
  },
  {
   "cell_type": "code",
   "execution_count": 5,
   "metadata": {},
   "outputs": [
    {
     "name": "stdout",
     "output_type": "stream",
     "text": [
      "Sex\n",
      "Female    102\n",
      "Male       98\n",
      "Total     200\n",
      "Name: Weight_(kg), dtype: int64\n"
     ]
    }
   ],
   "source": [
    "sex_res = sample.groupby('Sex').count()['Weight_(kg)']\n",
    "sex_res['Total'] = sex_res.sum()\n",
    "print(sex_res)\n"
   ]
  },
  {
   "cell_type": "markdown",
   "metadata": {},
   "source": [
    "#b:\n",
    "\n",
    "* We can see there are no missing values in the sex column (a total of 200). \n",
    "* Since the values are binary, there are no outliers.\n",
    "* The labels are balanced.\n",
    "* Since the values are binary, if independent from the data they are distributed bernoulli. From our knowledge of the domain, we can assume they are."
   ]
  },
  {
   "cell_type": "markdown",
   "metadata": {},
   "source": [
    "#d:"
   ]
  },
  {
   "cell_type": "code",
   "execution_count": 6,
   "metadata": {},
   "outputs": [
    {
     "data": {
      "text/plain": [
       "Text(0, 0.5, 'Population Count')"
      ]
     },
     "execution_count": 6,
     "metadata": {},
     "output_type": "execute_result"
    },
    {
     "data": {
      "image/png": "[encoded data removed]",
      "text/plain": [
       "<Figure size 1200x600 with 2 Axes>"
      ]
     },
     "metadata": {},
     "output_type": "display_data"
    }
   ],
   "source": [
    "# divide the sample into two groups:\n",
    "sample_male = sample[sample['Sex'] == 'Male']\n",
    "sample_female = sample[sample['Sex'] == 'Female']\n",
    "\n",
    "# plot a histogram of the weight distribution for each group:\n",
    "fig, axes = plt.subplots(nrows=1, ncols=2, figsize=(12, 6))\n",
    "fig.suptitle('Weight Distribution by Sex')\n",
    "\n",
    "axes[0].hist(sample_male['Weight_(kg)'], alpha=0.5,\n",
    "             label='Male', color='blue', bins=10)\n",
    "axes[0].set_title('Male')\n",
    "axes[0].set_xlabel('Weight (kg)')\n",
    "axes[0].set_ylabel('Population Count')\n",
    "\n",
    "axes[1].hist(sample_female['Weight_(kg)'], alpha=0.5,\n",
    "             label='Female', color='red', bins=10)\n",
    "axes[1].set_title('Female')\n",
    "axes[1].set_xlabel('Weight (kg)')\n",
    "axes[1].set_ylabel('Population Count')"
   ]
  },
  {
   "cell_type": "markdown",
   "metadata": {},
   "source": [
    "The distributions are different, and there are more values in the 'female' category below 80, than in the 'male' category. "
   ]
  },
  {
   "cell_type": "markdown",
   "metadata": {},
   "source": [
    "#### **Green vegetables consumption:** (ordinal)\n",
    "\n",
    "#a:"
   ]
  },
  {
   "cell_type": "code",
   "execution_count": 7,
   "metadata": {},
   "outputs": [
    {
     "data": {
      "image/png": "[encoded data removed]",
      "text/plain": [
       "<Figure size 640x480 with 1 Axes>"
      ]
     },
     "metadata": {},
     "output_type": "display_data"
    }
   ],
   "source": [
    "# plot a histogram for green vegetables consumption per month:\n",
    "plt.hist(sample['Green_Vegetables_Consumption'],\n",
    "         bins=12, color='green', alpha=0.5)\n",
    "plt.title('Green Vegetables Consumption')\n",
    "plt.ylabel('population count')\n",
    "plt.xlabel('green vegetables consumed per month')\n",
    "plt.show()"
   ]
  },
  {
   "cell_type": "markdown",
   "metadata": {},
   "source": [
    "#b:"
   ]
  },
  {
   "cell_type": "code",
   "execution_count": 8,
   "metadata": {},
   "outputs": [
    {
     "name": "stdout",
     "output_type": "stream",
     "text": [
      "values:  200\n",
      "total number of outliers:  5\n"
     ]
    }
   ],
   "source": [
    "# find missing values:\n",
    "print(\"values: \", sample['Green_Vegetables_Consumption'].count())\n",
    "\n",
    "# find outliers:\n",
    "q1 = sample['Green_Vegetables_Consumption'].quantile(0.25)\n",
    "q3 = sample['Green_Vegetables_Consumption'].quantile(0.75)\n",
    "iqr = q3 - q1\n",
    "lower_bound = q1 - (1.5 * iqr)\n",
    "upper_bound = q3 + (1.5 * iqr)\n",
    "print(\"total number of outliers: \", len(sample[(sample['Green_Vegetables_Consumption'] < lower_bound) | (\n",
    "    sample['Green_Vegetables_Consumption'] > upper_bound)]))"
   ]
  },
  {
   "cell_type": "markdown",
   "metadata": {},
   "source": [
    "* We can see there are no missing values (a total of 200). \n",
    "* There are 5 outliers in the sample.\n",
    "* The distribution is not symmetrical.\n",
    "* Doesn't appear as a known distribution."
   ]
  },
  {
   "cell_type": "markdown",
   "metadata": {},
   "source": [
    "#c:"
   ]
  },
  {
   "cell_type": "code",
   "execution_count": 9,
   "metadata": {},
   "outputs": [
    {
     "data": {
      "image/png": "[encoded data removed]",
      "text/plain": [
       "<Figure size 640x480 with 1 Axes>"
      ]
     },
     "metadata": {},
     "output_type": "display_data"
    }
   ],
   "source": [
    "# plot weight as a function of green vegetables consumption:\n",
    "plt.plot(sample['Green_Vegetables_Consumption'],\n",
    "         sample['Weight_(kg)'], 'o', color='green')\n",
    "plt.title('Green Vegetables Consumption vs Weight')\n",
    "plt.ylabel('Weight (kg)')\n",
    "plt.xlabel('Green Vegetables Consumption')\n",
    "plt.show()"
   ]
  },
  {
   "cell_type": "markdown",
   "metadata": {},
   "source": [
    "There isn't an appearance of connection between the values in the plot. We can notice the main mass of points is on the lower end of green vegetables consumption. We can also see that the outlier have a high value of either one of the parameters, but not both."
   ]
  },
  {
   "cell_type": "markdown",
   "metadata": {},
   "source": [
    "#### **Height:** (continuous)\n",
    "\n",
    "#a:"
   ]
  },
  {
   "cell_type": "code",
   "execution_count": 10,
   "metadata": {},
   "outputs": [
    {
     "data": {
      "text/plain": [
       "Text(0.5, 0, 'height in cm')"
      ]
     },
     "execution_count": 10,
     "metadata": {},
     "output_type": "execute_result"
    },
    {
     "data": {
      "image/png": "[encoded data removed]",
      "text/plain": [
       "<Figure size 640x480 with 1 Axes>"
      ]
     },
     "metadata": {},
     "output_type": "display_data"
    }
   ],
   "source": [
    "# plot a histogram for height:\n",
    "plt.hist(sample['Height_(cm)'], bins=10, alpha=0.5)\n",
    "plt.title('Height')\n",
    "plt.ylabel('population count')\n",
    "plt.xlabel('height in cm')\n"
   ]
  },
  {
   "cell_type": "markdown",
   "metadata": {},
   "source": [
    "#b:"
   ]
  },
  {
   "cell_type": "code",
   "execution_count": 11,
   "metadata": {},
   "outputs": [
    {
     "name": "stdout",
     "output_type": "stream",
     "text": [
      "values:  200\n",
      "total number of outliers:  0\n"
     ]
    }
   ],
   "source": [
    "print(\"values: \", sample['Height_(cm)'].count())\n",
    "\n",
    "q1 = sample['Height_(cm)'].quantile(0.25)\n",
    "q3 = sample['Height_(cm)'].quantile(0.75)\n",
    "iqr = q3 - q1\n",
    "lower_bound = q1 - (1.5 * iqr)\n",
    "upper_bound = q3 + (1.5 * iqr)\n",
    "print(\"total number of outliers: \", len(\n",
    "    sample[(sample['Height_(cm)'] < lower_bound) | (sample['Height_(cm)'] > upper_bound)]))"
   ]
  },
  {
   "cell_type": "markdown",
   "metadata": {},
   "source": [
    "* We can see there are no missing values (a total of 200). \n",
    "* There are 2 outliers in the sample.\n",
    "* The distribution is symmetrical.\n",
    "* The distribution appears to be bi-normal from the histogram (we know this is plausible from our knowledge of the domain)."
   ]
  },
  {
   "cell_type": "markdown",
   "metadata": {},
   "source": [
    "#c:"
   ]
  },
  {
   "cell_type": "code",
   "execution_count": 12,
   "metadata": {},
   "outputs": [
    {
     "data": {
      "image/png": "[encoded data removed]",
      "text/plain": [
       "<Figure size 640x480 with 1 Axes>"
      ]
     },
     "metadata": {},
     "output_type": "display_data"
    }
   ],
   "source": [
    "plt.plot(sample['Height_(cm)'], sample['Weight_(kg)'], 'o', color='orange')\n",
    "plt.title('Height vs Weight')\n",
    "plt.ylabel('Weight (kg)')\n",
    "plt.xlabel('Height (cm)')\n",
    "plt.show()\n"
   ]
  },
  {
   "cell_type": "markdown",
   "metadata": {},
   "source": [
    "We can see there appears to be a connection between the values in the plot. Weight values are generally higher for higher height values.\n",
    "\n",
    "The weight parameter seems to have more influence on the height parameter than the green vegetables consumption parameter."
   ]
  },
  {
   "cell_type": "markdown",
   "metadata": {},
   "source": [
    "### 4."
   ]
  },
  {
   "cell_type": "code",
   "execution_count": 13,
   "metadata": {},
   "outputs": [],
   "source": [
    "n = len(sample)\n",
    "\n",
    "# Transform categorical variables to numeric:\n",
    "sample_sex_values = sample['Sex'].apply(lambda x: 1 if x == 'Male' else 0)\n",
    "sample_exercise_values = sample['Exercise'].apply(\n",
    "    lambda x: 1 if x == 'Yes' else 0)"
   ]
  },
  {
   "cell_type": "code",
   "execution_count": 14,
   "metadata": {},
   "outputs": [
    {
     "name": "stdout",
     "output_type": "stream",
     "text": [
      "[[  1.   1.   0.  60. 168.]\n",
      " [  1.   0.   0.   4. 155.]\n",
      " [  1.   1.   1.  12. 180.]\n",
      " [  1.   1.   0.  16. 155.]\n",
      " [  1.   1.   0.  16. 157.]]\n",
      "[[72.57]\n",
      " [59.87]\n",
      " [65.77]\n",
      " [62.14]\n",
      " [59.87]]\n"
     ]
    }
   ],
   "source": [
    "# Create X matrix with a column of ones, and parameters:\n",
    "x1 = np.concatenate((np.ones((n, 1)), np.array(\n",
    "    sample_exercise_values).reshape(-1, 1)), axis=1)\n",
    "x2 = np.concatenate((x1, np.array(sample_sex_values).reshape(-1, 1)), axis=1)\n",
    "X = np.concatenate((x2, np.array(sample.iloc[:, 2:4])), axis=1)\n",
    "\n",
    "print(X[:5])\n",
    "\n",
    "# Create y vector:\n",
    "y = np.array(sample.iloc[:, 4]).reshape(-1, 1)\n",
    "print(y[:5])"
   ]
  },
  {
   "cell_type": "code",
   "execution_count": 15,
   "metadata": {},
   "outputs": [
    {
     "name": "stdout",
     "output_type": "stream",
     "text": [
      "beta 0: -119.3859\n",
      "beta 1: -4.8897\n",
      "beta 2: -1.8241\n",
      "beta 3: -0.0004\n",
      "beta 4: 1.2148\n"
     ]
    }
   ],
   "source": [
    "# Calculate the estimated coefficients from equation:\n",
    "beta = np.linalg.inv(X.T @ X) @ X.T @ y\n",
    "\n",
    "for i in range(len(beta)):\n",
    "    print(f\"beta {i}: {beta[i][0]:.4f}\")\n"
   ]
  },
  {
   "cell_type": "markdown",
   "metadata": {},
   "source": [
    "* beta 0 is the intercept.\n",
    "\n",
    "* beta 1 is the exercise coefficient. It has a big influence on the explained variable.\n",
    "If the binary value is changed, it has an affect of -4.8897 on the explained variable.\n",
    "\n",
    "* beta 2 is the sex coefficient. It has some influence on the explained variable.\n",
    "If the value is changed from female(0) to male(1), the explained variable decreases by 1.8241.\n",
    "\n",
    "* beta 3 is the green vegetables consumption coefficient. It has a relatively low value.\n",
    "If the value is increased by 1, the explained variable decreases by 0.0004.\n",
    "\n",
    "* beta 4 is the height coefficient. It has a big influence on the explained variable since the values of height are larger.\n",
    "If the value is increased by 1, the explained variable increases by 1.2148."
   ]
  },
  {
   "cell_type": "markdown",
   "metadata": {},
   "source": [
    "### 5."
   ]
  },
  {
   "cell_type": "code",
   "execution_count": 16,
   "metadata": {},
   "outputs": [
    {
     "name": "stdout",
     "output_type": "stream",
     "text": [
      "       Source            SS   df           MS          F p-value\n",
      "0  Regression  25373.074497    4  6343.268624  17.280412     0.0\n",
      "1    Residual  71580.316381  195   367.078546          -       -\n",
      "2       Total  96953.390878  199   487.202969          -       -\n"
     ]
    }
   ],
   "source": [
    "# Re-define all needed variables for the new model:\n",
    "n = len(sample)\n",
    "p = len(beta)\n",
    "\n",
    "result5_df = pd.DataFrame(columns=['Source', 'SS', 'df', 'MS', 'F', 'p-value'])\n",
    "\n",
    "# Sum of Squares:\n",
    "ss_reg = np.sum((X @ beta - np.mean(y))**2)\n",
    "ss_res = np.sum((y - X @ beta)**2)\n",
    "ss_tot = np.sum((y - np.mean(y))**2)\n",
    "\n",
    "# MS:\n",
    "ms_reg = ss_reg / (p-1)\n",
    "ms_res = ss_res / (n-p)\n",
    "ms_tot = ss_tot / (n-1)\n",
    "\n",
    "# F:\n",
    "F = ms_reg / ms_res\n",
    "pvalue = 1 - stats.f.cdf(F, p-1, n-p)\n",
    "\n",
    "# Add the results to the table:\n",
    "result5_df.loc[0] = ['Regression', ss_reg, p-1, ms_reg, F, pvalue]\n",
    "result5_df.loc[1] = ['Residual', ss_res, n-p, ms_res, \"-\", \"-\"]\n",
    "result5_df.loc[2] = ['Total', ss_tot, n-1, ms_tot, \"-\", \"-\"]\n",
    "\n",
    "print(result5_df)"
   ]
  },
  {
   "cell_type": "markdown",
   "metadata": {},
   "source": [
    "The F statistic is large and the p-value is very small.\n"
   ]
  },
  {
   "cell_type": "code",
   "execution_count": 17,
   "metadata": {},
   "outputs": [
    {
     "name": "stdout",
     "output_type": "stream",
     "text": [
      "R^2: 0.261703837968776\n",
      "R^2_adj: 0.2465593013117382\n"
     ]
    }
   ],
   "source": [
    "R2 = ss_reg / ss_tot\n",
    "print(\"R^2:\", R2)\n",
    "\n",
    "R2_adj = 1 - ms_res / ms_tot\n",
    "print(\"R^2_adj:\", R2_adj)\n"
   ]
  },
  {
   "cell_type": "markdown",
   "metadata": {},
   "source": [
    "### 6."
   ]
  },
  {
   "cell_type": "code",
   "execution_count": 18,
   "metadata": {},
   "outputs": [
    {
     "name": "stdout",
     "output_type": "stream",
     "text": [
      "sample beta 0:\n",
      "CI: (-189.09202159766184, -49.67975742562348)\n",
      "sample beta 1:\n",
      "CI: (-12.019042164009107, 2.2396980996552474)\n",
      "sample beta 2:\n",
      "CI: (-10.362716682498318, 6.714465160759174)\n",
      "sample beta 3:\n",
      "CI: (-0.1851775619469882, 0.18440706685102087)\n",
      "sample beta 4:\n",
      "CI: (0.7822425423634143, 1.647276794405414)\n"
     ]
    }
   ],
   "source": [
    "# noise variance unbiased estimator:\n",
    "var_eps = (1/(n - p)) * np.sum((y - X @ beta)**2)\n",
    "\n",
    "# C:\n",
    "C = np.linalg.inv(X.T @ X)\n",
    "\n",
    "# Z score:\n",
    "alpha = 0.05\n",
    "z_score = stats.norm.ppf(1-(alpha/2))\n",
    "\n",
    "# CI for coefficients:\n",
    "for i in range(len(beta)):\n",
    "    print(f\"sample beta {i}:\")\n",
    "    se = np.sqrt(C[i][i] * var_eps)\n",
    "    ci = (beta[i][0] - z_score * se, beta[i][0] + z_score * se)\n",
    "    print(f\"CI: {ci}\")\n"
   ]
  },
  {
   "cell_type": "code",
   "execution_count": 19,
   "metadata": {},
   "outputs": [
    {
     "name": "stdout",
     "output_type": "stream",
     "text": [
      "beta 0: -66.3205\n",
      "beta 1: -6.5972\n",
      "beta 2: 1.8402\n",
      "beta 3: -0.0616\n",
      "beta 4: 0.9087\n"
     ]
    }
   ],
   "source": [
    "# Find \"true\" beta coefficients using the whole data set:\n",
    "\n",
    "data_n = len(data)\n",
    "\n",
    "# Transform categorical variables to numeric:\n",
    "data_sex_values = data['Sex'].apply(lambda x: 1 if x == 'Male' else 0)\n",
    "data_exercise_values = data['Exercise'].apply(lambda x: 1 if x == 'Yes' else 0)\n",
    "\n",
    "# Create X matrix with a column of ones, and parameters:\n",
    "x1_data = np.concatenate((np.ones((data_n, 1)), np.array(data_exercise_values).reshape(-1, 1)), axis=1)\n",
    "x2_data = np.concatenate((x1_data, np.array(data_sex_values).reshape(-1, 1)), axis=1)\n",
    "X_data = np.concatenate((x2_data, np.array(small_data.iloc[:, 2:4])), axis=1)\n",
    "# print(X_data)\n",
    "\n",
    "# Create y vector:\n",
    "y_data = np.array(small_data.iloc[:, 4]).reshape(-1, 1)\n",
    "# print(y_data)\n",
    "\n",
    "# Calculate the estimated coefficients from equation:\n",
    "beta_data = np.linalg.inv(X_data.T @ X_data) @ X_data.T @ y_data\n",
    "\n",
    "for i in range(len(beta_data)):\n",
    "    print(f\"beta {i}: {beta_data[i][0]:.4f}\")"
   ]
  },
  {
   "cell_type": "markdown",
   "metadata": {},
   "source": [
    "All the beta coefficients are in their appropriate CI's."
   ]
  },
  {
   "cell_type": "markdown",
   "metadata": {},
   "source": [
    "### 7."
   ]
  },
  {
   "cell_type": "markdown",
   "metadata": {},
   "source": [
    "We will use a Wald test for each beta, as we saw in tutorial 4. We will perform the following test for each beta:\n",
    "\n",
    "$H_0: \\beta = 0$\n",
    "\n",
    "$H_1: \\beta \\ne 0$\n",
    "\n",
    "$W = \\beta_j / {\\sigma_\\epsilon * (X^TX)^{-1}_{jj}}$\n",
    "\n",
    "RR: Reject $H_0$ if $|W| > z_{\\alpha/2}$\n",
    "\n",
    "W is the wald statistic, with the s.e. of the beta coefficient in the denominator.\n"
   ]
  },
  {
   "cell_type": "code",
   "execution_count": 20,
   "metadata": {},
   "outputs": [
    {
     "name": "stdout",
     "output_type": "stream",
     "text": [
      "beta 0: reject H0\n",
      "beta 1: maintain H0\n",
      "beta 2: maintain H0\n",
      "beta 3: maintain H0\n",
      "beta 4: maintain H0\n"
     ]
    }
   ],
   "source": [
    "# noise variance unbiased estimator:\n",
    "var_eps = (1/(n - p)) * np.sum((y - X @ beta)**2)\n",
    "\n",
    "# C:\n",
    "C = np.linalg.inv(X.T @ X)\n",
    "\n",
    "# Z score:\n",
    "alpha = 0.05\n",
    "z_score = stats.norm.ppf(1-(alpha/2))\n",
    "\n",
    "for i in range(len(beta)):\n",
    "    b = beta[i][0]\n",
    "    W = b / np.sqrt(var_eps) * C[i][i]\n",
    "    if np.abs(W) > z_score:\n",
    "        print(f\"beta {i}: reject H0\")\n",
    "    else:\n",
    "        print(f\"beta {i}: maintain H0\")\n"
   ]
  },
  {
   "cell_type": "markdown",
   "metadata": {},
   "source": [
    "### 8."
   ]
  },
  {
   "cell_type": "code",
   "execution_count": 21,
   "metadata": {},
   "outputs": [],
   "source": [
    "# Calculate residuals:\n",
    "y_pred = X @ beta\n",
    "e = y - y_pred\n"
   ]
  },
  {
   "cell_type": "code",
   "execution_count": 22,
   "metadata": {},
   "outputs": [
    {
     "data": {
      "image/png": "[encoded data removed]",
      "text/plain": [
       "<Figure size 640x480 with 1 Axes>"
      ]
     },
     "metadata": {},
     "output_type": "display_data"
    }
   ],
   "source": [
    "# Residuals plot:\n",
    "plt.title(\"Residual Analysis\")\n",
    "plt.scatter(y_pred, e)\n",
    "plt.axhline(y=0, color='r', linestyle='-')\n",
    "plt.xlabel(\"y_pred\")\n",
    "plt.ylabel(\"residuals\")\n",
    "plt.show()\n"
   ]
  },
  {
   "cell_type": "markdown",
   "metadata": {},
   "source": [
    "From this graph we can assume the linearity assumption and the equal variance assumption holds (the residuals are distributed symmetricly and equally)."
   ]
  },
  {
   "cell_type": "code",
   "execution_count": 23,
   "metadata": {},
   "outputs": [
    {
     "data": {
      "image/png": "[encoded data removed]",
      "text/plain": [
       "<Figure size 640x480 with 1 Axes>"
      ]
     },
     "metadata": {},
     "output_type": "display_data"
    }
   ],
   "source": [
    "# Normal Q-Q plot:\n",
    "stats.probplot(e[:, 0], dist=\"norm\", plot=plt)\n",
    "plt.title(\"Normal Q-Q plot\")\n",
    "plt.show()"
   ]
  },
  {
   "cell_type": "markdown",
   "metadata": {},
   "source": [
    "From this plot we can assume the normality assumption holds."
   ]
  },
  {
   "cell_type": "markdown",
   "metadata": {},
   "source": [
    "### 9."
   ]
  },
  {
   "cell_type": "code",
   "execution_count": 24,
   "metadata": {},
   "outputs": [],
   "source": [
    "# get a 1000 new points, not in the sample:\n",
    "sample_size = 1000\n",
    "data_without_sample = small_data.drop(sample.index)\n",
    "new_data = data_without_sample.sample(sample_size)\n",
    "\n",
    "# Transform categorical variables to numeric:\n",
    "new_data_sex_values = new_data['Sex'].apply(lambda x: 1 if x == 'Male' else 0)\n",
    "new_data_exercise_values = new_data['Exercise'].apply(lambda x: 1 if x == 'Yes' else 0)\n",
    "\n",
    "# Create X matrix with a column of ones, and parameters:\n",
    "x1_new_data = np.concatenate((np.ones((sample_size, 1)), np.array(new_data_exercise_values).reshape(-1, 1)), axis=1)\n",
    "x2_new_data = np.concatenate((x1_new_data, np.array(new_data_sex_values).reshape(-1, 1)), axis=1)\n",
    "X_new = np.concatenate((x2_new_data, np.array(new_data.iloc[:, 2:4])), axis=1)\n",
    "\n",
    "# get true values:\n",
    "y_new = np.array(new_data.iloc[:, 4]).reshape(-1, 1)"
   ]
  },
  {
   "cell_type": "code",
   "execution_count": 25,
   "metadata": {},
   "outputs": [],
   "source": [
    "# a:\n",
    "# predict y values:\n",
    "y_new_pred = X_new @ beta"
   ]
  },
  {
   "cell_type": "code",
   "execution_count": 26,
   "metadata": {},
   "outputs": [],
   "source": [
    "# b:\n",
    "# for every new point create a CI:\n",
    "ci_new_list = []\n",
    "var_eps = (1/(n - p)) * np.sum((y - X @ beta)**2)\n",
    "C = np.linalg.inv(X.T @ X)\n",
    "alpha = 0.05\n",
    "z_score = stats.norm.ppf(1-(alpha/2))\n",
    "\n",
    "for x in X_new:\n",
    "    # formula for CI of y|x from tutorial:\n",
    "    var_new = var_eps * (x @ C @ x.T + 1)\n",
    "    ci = (x @ beta - z_score * np.sqrt(var_new), x @ beta + z_score * np.sqrt(var_new))\n",
    "    ci_new_list.append(ci)"
   ]
  },
  {
   "cell_type": "code",
   "execution_count": 27,
   "metadata": {},
   "outputs": [
    {
     "name": "stdout",
     "output_type": "stream",
     "text": [
      "Percentage of y_new in CI: 95.40%\n"
     ]
    }
   ],
   "source": [
    "# c:\n",
    "# calculate the percentage of the true result in their predicted CI's:\n",
    "count_in_ci = 0\n",
    "for i in range(len(y_new)):\n",
    "    if ci_new_list[i][0] <= y_new[i] <= ci_new_list[i][1]:\n",
    "        count_in_ci += 1\n",
    "\n",
    "print(f\"Percentage of y_new in CI: {count_in_ci / len(y_new) * 100:.2f}%\")"
   ]
  },
  {
   "cell_type": "markdown",
   "metadata": {},
   "source": [
    "The percentage of times the true y value is in the CI is 95.4%, which is close to the expected 95%."
   ]
  },
  {
   "cell_type": "markdown",
   "metadata": {},
   "source": [
    "### 10."
   ]
  },
  {
   "cell_type": "code",
   "execution_count": 28,
   "metadata": {},
   "outputs": [
    {
     "name": "stdout",
     "output_type": "stream",
     "text": [
      "beta 0: -43.3177\n",
      "beta 1: 55.0679\n",
      "beta 2: -163.1709\n",
      "beta 3: -3.3658\n",
      "beta 4: 0.7403\n",
      "beta 5: 1.9637\n",
      "beta 6: -0.2690\n",
      "beta 7: -0.3420\n",
      "beta 8: -0.1134\n",
      "beta 9: 0.9424\n",
      "beta 10: 0.0213\n"
     ]
    }
   ],
   "source": [
    "# Create X matrix with a column of ones, all singular parameters, and interactions:\n",
    "x3 = np.concatenate((X, (X[:, 1] * X[:, 2]).reshape(-1, 1)), axis=1)\n",
    "x4 = np.concatenate((x3, (X[:, 1] * X[:, 3]).reshape(-1, 1)), axis=1)\n",
    "x5 = np.concatenate((x4, (X[:, 1] * X[:, 4]).reshape(-1, 1)), axis=1)\n",
    "x6 = np.concatenate((x5, (X[:, 2] * X[:, 3]).reshape(-1, 1)), axis=1)\n",
    "x7 = np.concatenate((x6, (X[:, 2] * X[:, 4]).reshape(-1, 1)), axis=1)\n",
    "X_interaction = np.concatenate(\n",
    "    (x7, (X[:, 3] * X[:, 4]).reshape(-1, 1)), axis=1)\n",
    "\n",
    "# Calculate the estimated coefficients from equation:\n",
    "beta_interactions = np.linalg.inv(\n",
    "    X_interaction.T @ X_interaction) @ X_interaction.T @ y\n",
    "y_interactions_pred = X_interaction @ beta_interactions\n",
    "\n",
    "for i in range(len(beta_interactions)):\n",
    "    print(f\"beta {i}: {beta_interactions[i][0]:.4f}\")"
   ]
  },
  {
   "cell_type": "markdown",
   "metadata": {},
   "source": [
    "This is a new model which includes interactions. We can see the additional beta coefficients are not very large, but might be significant."
   ]
  },
  {
   "cell_type": "markdown",
   "metadata": {},
   "source": [
    "##### Method 1: Mallow's Cp"
   ]
  },
  {
   "cell_type": "code",
   "execution_count": 29,
   "metadata": {},
   "outputs": [
    {
     "name": "stdout",
     "output_type": "stream",
     "text": [
      "Mallow's Cp for regular regression model: 75251.1018\n",
      "Mallow's Cp for interactions model: 77033.0405\n"
     ]
    }
   ],
   "source": [
    "R_reg_train = np.sum((y_pred - y)**2)\n",
    "R_inter_train = np.sum((y_interactions_pred - y)**2)\n",
    "\n",
    "mallow_reg = R_reg_train + 2 * len(beta) * var_eps\n",
    "mallow_inter = R_inter_train + 2 * len(beta_interactions) * var_eps\n",
    "\n",
    "print(f\"Mallow's Cp for regular regression model: {mallow_reg:.4f}\")\n",
    "print(f\"Mallow's Cp for interactions model: {mallow_inter:.4f}\")\n"
   ]
  },
  {
   "cell_type": "markdown",
   "metadata": {},
   "source": [
    "The regular model has a lower Cp statistic, which is better."
   ]
  },
  {
   "cell_type": "markdown",
   "metadata": {},
   "source": [
    "##### Method 2: Leave-one-out cross-validation"
   ]
  },
  {
   "cell_type": "code",
   "execution_count": 30,
   "metadata": {},
   "outputs": [
    {
     "name": "stdout",
     "output_type": "stream",
     "text": [
      "R_cv for regular regression model: 75606.6838\n",
      "R_cv for interactions model: 81882.9679\n"
     ]
    }
   ],
   "source": [
    "U_reg = X @ np.linalg.inv(X.T @ X) @ X.T\n",
    "U_inter = X_interaction @ np.linalg.inv(X_interaction.T @\n",
    "                                        X_interaction) @ X_interaction.T\n",
    "\n",
    "R_cv_reg = 0\n",
    "for i in range(len(y)):\n",
    "    R_cv_reg += (((y[i] - y_pred[i]) / (1 - U_reg[i][i])) ** 2)[0]\n",
    "\n",
    "R_cv_inter = 0\n",
    "for i in range(len(y)):\n",
    "    R_cv_inter += (((y[i] - y_interactions_pred[i]) /\n",
    "                   (1 - U_inter[i][i])) ** 2)[0]\n",
    "\n",
    "\n",
    "print(f\"R_cv for regular regression model: {R_cv_reg:.4f}\")\n",
    "print(f\"R_cv for interactions model: {R_cv_inter:.4f}\")"
   ]
  },
  {
   "cell_type": "markdown",
   "metadata": {},
   "source": [
    "The regular model has a lower score, which is better.\n",
    "\n",
    "In both methods the regular model is better."
   ]
  },
  {
   "cell_type": "markdown",
   "metadata": {},
   "source": [
    "### Part B - Logistic Regression"
   ]
  },
  {
   "cell_type": "code",
   "execution_count": 31,
   "metadata": {},
   "outputs": [],
   "source": [
    "import numpy as np\n",
    "import pandas as pd\n",
    "import matplotlib.pyplot as plt\n",
    "import scipy.stats as stats\n",
    "\n",
    "np.random.seed(1012)\n",
    "\n",
    "data = pd.read_csv('CVD_cleaned.csv')\n",
    "\n",
    "# transformation 1:\n",
    "data.loc[data[\"Diabetes\"] ==\n",
    "         'No, pre-diabetes or borderline diabetes', \"Diabetes\"] = 'at risk'\n",
    "data = data[data[\"Diabetes\"] != 'Yes, but female told only during pregnancy']\n",
    "\n",
    "# transformation 2:\n",
    "data[\"Numerical_Age_Category\"] = data[\"Age_Category\"].apply(\n",
    "    lambda x: int(x[:2]))"
   ]
  },
  {
   "cell_type": "code",
   "execution_count": 32,
   "metadata": {},
   "outputs": [],
   "source": [
    "binary_variables = [\"Exercise\", \"Smoking_History\", \"Skin_Cancer\",\n",
    "                    \"Other_Cancer\", \"Depression\", \"Diabetes\", \"Arthritis\"]\n",
    "numerical_variables = [\"Weight_(kg)\", \"Height_(cm)\", \"BMI\", \"FriedPotato_Consumption\",\n",
    "                       \"Numerical_Age_Category\", \"Green_Vegetables_Consumption\", \"Fruit_Consumption\", \"Alcohol_Consumption\"]\n",
    "\n",
    "# for every binary variable transform the \"No\" and \"Yes\" to 0 and 1\n",
    "data[\"Sex\"] = data[\"Sex\"].apply(lambda x: 0 if x == \"Male\" else 1)\n",
    "data[\"Heart_Disease\"] = data[\"Heart_Disease\"].apply(\n",
    "    lambda x: 0 if x == \"No\" else 1)\n",
    "for variable in binary_variables:\n",
    "    data[variable] = data[variable].apply(lambda x: 0 if x == \"No\" else 1)\n",
    "\n",
    "# create a list of the variables that we will use in the model\n",
    "variables_list = binary_variables + numerical_variables + [\"Sex\"]"
   ]
  },
  {
   "cell_type": "markdown",
   "metadata": {},
   "source": [
    "### 1.\n",
    "How do exercise (binary), smoking history (binary), body weight (ordinal), and fried potato consumption (ordinal) influence the probability of having heart diseases?"
   ]
  },
  {
   "cell_type": "markdown",
   "metadata": {},
   "source": [
    "### 2."
   ]
  },
  {
   "cell_type": "code",
   "execution_count": 33,
   "metadata": {},
   "outputs": [
    {
     "data": {
      "text/html": [
       "<div>\n",
       "<style scoped>\n",
       "    .dataframe tbody tr th:only-of-type {\n",
       "        vertical-align: middle;\n",
       "    }\n",
       "\n",
       "    .dataframe tbody tr th {\n",
       "        vertical-align: top;\n",
       "    }\n",
       "\n",
       "    .dataframe thead th {\n",
       "        text-align: right;\n",
       "    }\n",
       "</style>\n",
       "<table border=\"1\" class=\"dataframe\">\n",
       "  <thead>\n",
       "    <tr style=\"text-align: right;\">\n",
       "      <th></th>\n",
       "      <th>Exercise</th>\n",
       "      <th>Smoking_History</th>\n",
       "      <th>Skin_Cancer</th>\n",
       "      <th>Other_Cancer</th>\n",
       "      <th>Depression</th>\n",
       "      <th>Diabetes</th>\n",
       "      <th>Arthritis</th>\n",
       "      <th>Weight_(kg)</th>\n",
       "      <th>Height_(cm)</th>\n",
       "      <th>BMI</th>\n",
       "      <th>FriedPotato_Consumption</th>\n",
       "      <th>Numerical_Age_Category</th>\n",
       "      <th>Green_Vegetables_Consumption</th>\n",
       "      <th>Fruit_Consumption</th>\n",
       "      <th>Alcohol_Consumption</th>\n",
       "      <th>Sex</th>\n",
       "      <th>Heart_Disease</th>\n",
       "    </tr>\n",
       "  </thead>\n",
       "  <tbody>\n",
       "    <tr>\n",
       "      <th>102725</th>\n",
       "      <td>1</td>\n",
       "      <td>1</td>\n",
       "      <td>0</td>\n",
       "      <td>0</td>\n",
       "      <td>0</td>\n",
       "      <td>0</td>\n",
       "      <td>1</td>\n",
       "      <td>72.57</td>\n",
       "      <td>168.0</td>\n",
       "      <td>25.82</td>\n",
       "      <td>0.0</td>\n",
       "      <td>65</td>\n",
       "      <td>60.0</td>\n",
       "      <td>60.0</td>\n",
       "      <td>8.0</td>\n",
       "      <td>1</td>\n",
       "      <td>0</td>\n",
       "    </tr>\n",
       "    <tr>\n",
       "      <th>195809</th>\n",
       "      <td>0</td>\n",
       "      <td>0</td>\n",
       "      <td>0</td>\n",
       "      <td>0</td>\n",
       "      <td>0</td>\n",
       "      <td>1</td>\n",
       "      <td>0</td>\n",
       "      <td>59.87</td>\n",
       "      <td>155.0</td>\n",
       "      <td>24.94</td>\n",
       "      <td>4.0</td>\n",
       "      <td>18</td>\n",
       "      <td>4.0</td>\n",
       "      <td>28.0</td>\n",
       "      <td>4.0</td>\n",
       "      <td>1</td>\n",
       "      <td>0</td>\n",
       "    </tr>\n",
       "    <tr>\n",
       "      <th>65238</th>\n",
       "      <td>1</td>\n",
       "      <td>1</td>\n",
       "      <td>0</td>\n",
       "      <td>0</td>\n",
       "      <td>0</td>\n",
       "      <td>0</td>\n",
       "      <td>0</td>\n",
       "      <td>65.77</td>\n",
       "      <td>180.0</td>\n",
       "      <td>20.22</td>\n",
       "      <td>8.0</td>\n",
       "      <td>25</td>\n",
       "      <td>12.0</td>\n",
       "      <td>90.0</td>\n",
       "      <td>20.0</td>\n",
       "      <td>0</td>\n",
       "      <td>0</td>\n",
       "    </tr>\n",
       "    <tr>\n",
       "      <th>167460</th>\n",
       "      <td>1</td>\n",
       "      <td>1</td>\n",
       "      <td>0</td>\n",
       "      <td>1</td>\n",
       "      <td>1</td>\n",
       "      <td>0</td>\n",
       "      <td>0</td>\n",
       "      <td>62.14</td>\n",
       "      <td>155.0</td>\n",
       "      <td>25.89</td>\n",
       "      <td>3.0</td>\n",
       "      <td>55</td>\n",
       "      <td>16.0</td>\n",
       "      <td>20.0</td>\n",
       "      <td>0.0</td>\n",
       "      <td>1</td>\n",
       "      <td>0</td>\n",
       "    </tr>\n",
       "    <tr>\n",
       "      <th>295267</th>\n",
       "      <td>1</td>\n",
       "      <td>0</td>\n",
       "      <td>0</td>\n",
       "      <td>0</td>\n",
       "      <td>0</td>\n",
       "      <td>0</td>\n",
       "      <td>0</td>\n",
       "      <td>59.87</td>\n",
       "      <td>157.0</td>\n",
       "      <td>24.14</td>\n",
       "      <td>1.0</td>\n",
       "      <td>80</td>\n",
       "      <td>16.0</td>\n",
       "      <td>60.0</td>\n",
       "      <td>0.0</td>\n",
       "      <td>1</td>\n",
       "      <td>0</td>\n",
       "    </tr>\n",
       "  </tbody>\n",
       "</table>\n",
       "</div>"
      ],
      "text/plain": [
       "        Exercise  Smoking_History  Skin_Cancer  Other_Cancer  Depression  \\\n",
       "102725         1                1            0             0           0   \n",
       "195809         0                0            0             0           0   \n",
       "65238          1                1            0             0           0   \n",
       "167460         1                1            0             1           1   \n",
       "295267         1                0            0             0           0   \n",
       "\n",
       "        Diabetes  Arthritis  Weight_(kg)  Height_(cm)    BMI  \\\n",
       "102725         0          1        72.57        168.0  25.82   \n",
       "195809         1          0        59.87        155.0  24.94   \n",
       "65238          0          0        65.77        180.0  20.22   \n",
       "167460         0          0        62.14        155.0  25.89   \n",
       "295267         0          0        59.87        157.0  24.14   \n",
       "\n",
       "        FriedPotato_Consumption  Numerical_Age_Category  \\\n",
       "102725                      0.0                      65   \n",
       "195809                      4.0                      18   \n",
       "65238                       8.0                      25   \n",
       "167460                      3.0                      55   \n",
       "295267                      1.0                      80   \n",
       "\n",
       "        Green_Vegetables_Consumption  Fruit_Consumption  Alcohol_Consumption  \\\n",
       "102725                          60.0               60.0                  8.0   \n",
       "195809                           4.0               28.0                  4.0   \n",
       "65238                           12.0               90.0                 20.0   \n",
       "167460                          16.0               20.0                  0.0   \n",
       "295267                          16.0               60.0                  0.0   \n",
       "\n",
       "        Sex  Heart_Disease  \n",
       "102725    1              0  \n",
       "195809    1              0  \n",
       "65238     0              0  \n",
       "167460    1              0  \n",
       "295267    1              0  "
      ]
     },
     "execution_count": 33,
     "metadata": {},
     "output_type": "execute_result"
    }
   ],
   "source": [
    "sample = data.sample(200)[variables_list + [\"Heart_Disease\"]]\n",
    "sample.head()"
   ]
  },
  {
   "cell_type": "markdown",
   "metadata": {},
   "source": [
    "### 3."
   ]
  },
  {
   "cell_type": "markdown",
   "metadata": {},
   "source": [
    "We already explored the following variables in the regression part: exercise and fried potato consumption. \n",
    "We will now explore the smoking history and body weight variables."
   ]
  },
  {
   "cell_type": "markdown",
   "metadata": {},
   "source": [
    "smoking history - categorical (binary) variable"
   ]
  },
  {
   "cell_type": "code",
   "execution_count": 34,
   "metadata": {},
   "outputs": [
    {
     "data": {
      "text/plain": [
       "Smoking_History\n",
       "0    112\n",
       "1     88\n",
       "dtype: int64"
      ]
     },
     "execution_count": 34,
     "metadata": {},
     "output_type": "execute_result"
    }
   ],
   "source": [
    "# create a table with the counts of each smoking status\n",
    "\n",
    "smoking_status = sample.groupby(\"Smoking_History\").size()\n",
    "smoking_status"
   ]
  },
  {
   "cell_type": "markdown",
   "metadata": {},
   "source": [
    "There are no missing values in this variable. The labels are approximately balanced."
   ]
  },
  {
   "cell_type": "markdown",
   "metadata": {},
   "source": [
    "body weight - ordinal variable"
   ]
  },
  {
   "cell_type": "code",
   "execution_count": 35,
   "metadata": {},
   "outputs": [
    {
     "data": {
      "image/png": "[encoded data removed]",
      "text/plain": [
       "<Figure size 640x480 with 1 Axes>"
      ]
     },
     "metadata": {},
     "output_type": "display_data"
    },
    {
     "name": "stdout",
     "output_type": "stream",
     "text": [
      "Number of outliers above the high whisker:  6\n",
      "Number of outliers below the low whisker:  0\n",
      "Total number of outliers:  6\n"
     ]
    }
   ],
   "source": [
    "# create histogran of the body weight\n",
    "\n",
    "plt.hist(sample[\"Weight_(kg)\"], bins=20)\n",
    "plt.xlabel(\"Weight (kg)\")\n",
    "plt.ylabel(\"Frequency\")\n",
    "plt.show()\n",
    "\n",
    "# find outliers in this variable - the observations above the high whisker and below the low whisker\n",
    "# find the interquartile range\n",
    "q75, q25 = np.percentile(sample[\"Weight_(kg)\"], [75, 25])\n",
    "iqr = q75 - q25\n",
    "# find the upper and lower whiskers\n",
    "low_whisker = q25 - 1.5 * iqr\n",
    "high_whisker = q75 + 1.5 * iqr\n",
    "# find the outliers - separate the above and below outliers\n",
    "weight_outliers_above = sample[sample[\"Weight_(kg)\"] > high_whisker]\n",
    "weight_outliers_below = sample[sample[\"Weight_(kg)\"] < low_whisker]\n",
    "# print the number of outliers\n",
    "print(\"Number of outliers above the high whisker: \", len(weight_outliers_above))\n",
    "print(\"Number of outliers below the low whisker: \", len(weight_outliers_below))\n",
    "print(\"Total number of outliers: \", len(\n",
    "    weight_outliers_above) + len(weight_outliers_below))"
   ]
  },
  {
   "cell_type": "markdown",
   "metadata": {},
   "source": [
    "There are no missing values in this variable and 6 outliers. We can see from the histogram that the distribution is not symmetrical and don't resemble a familiar distribution."
   ]
  },
  {
   "cell_type": "markdown",
   "metadata": {},
   "source": [
    "We have 2 ordinal (quantitative) variables in the research question. Lets explore the relationship between each one of them and the dependent variable - heart disease."
   ]
  },
  {
   "cell_type": "code",
   "execution_count": 36,
   "metadata": {},
   "outputs": [
    {
     "data": {
      "image/png": "[encoded data removed]",
      "text/plain": [
       "<Figure size 640x480 with 1 Axes>"
      ]
     },
     "metadata": {},
     "output_type": "display_data"
    }
   ],
   "source": [
    "# create a box plot of the body weight in each of the heart disease groups\n",
    "sample.boxplot(column=\"Weight_(kg)\", by=\"Heart_Disease\")\n",
    "plt.ylabel(\"Weight (kg)\")\n",
    "plt.show()"
   ]
  },
  {
   "cell_type": "code",
   "execution_count": 37,
   "metadata": {},
   "outputs": [
    {
     "data": {
      "text/plain": [
       "<Axes: title={'center': 'FriedPotato_Consumption'}, xlabel='Heart_Disease'>"
      ]
     },
     "execution_count": 37,
     "metadata": {},
     "output_type": "execute_result"
    },
    {
     "data": {
      "image/png": "[encoded data removed]",
      "text/plain": [
       "<Figure size 640x480 with 1 Axes>"
      ]
     },
     "metadata": {},
     "output_type": "display_data"
    }
   ],
   "source": [
    "# create a box plot of the fried potato consumption in each of the heart disease groups\n",
    "sample.boxplot(column=\"FriedPotato_Consumption\", by=\"Heart_Disease\")"
   ]
  },
  {
   "cell_type": "markdown",
   "metadata": {},
   "source": [
    "We can see a big difference in body weight between the two groups of the heart disease variable. The mean of the body weight is higher in the group with heart disease. We cant see such difference in the fried potato consumption variable. although the mean of the fried potato consumption is higher in the group with heart disease, the difference is not as big as in the body weight variable and in addition the whiskers are very long in the \"no disease\" group, so we cant know if there is a real difference between the groups."
   ]
  },
  {
   "cell_type": "markdown",
   "metadata": {},
   "source": [
    "### 4."
   ]
  },
  {
   "cell_type": "code",
   "execution_count": 38,
   "metadata": {},
   "outputs": [
    {
     "name": "stdout",
     "output_type": "stream",
     "text": [
      "the independent coefficient is  -2.8081854064257055e-05\n",
      "the coefficient of the weight is  -0.012560666811786308\n",
      "the coefficient of the fried potato consumption is  -0.010259718953532913\n",
      "the coefficient of the smoking history is  1.1010148436754594\n",
      "the coefficient of the exercise is  -0.8727756824479214\n"
     ]
    }
   ],
   "source": [
    "from sklearn.linear_model import LogisticRegression\n",
    "\n",
    "# create the X and y variables\n",
    "X = sample[[\"Weight_(kg)\", \"FriedPotato_Consumption\",\n",
    "            \"Smoking_History\", \"Exercise\"]]\n",
    "y = sample[\"Heart_Disease\"]\n",
    "\n",
    "# add to the X variable a column of 1s\n",
    "X = np.hstack((np.ones((X.shape[0], 1)), X))\n",
    "\n",
    "logistic_regression = LogisticRegression()\n",
    "logistic_regression.fit(X, y)\n",
    "\n",
    "coefficients = logistic_regression.coef_\n",
    "print(\"the independent coefficient is \", coefficients[0][0])\n",
    "print(\"the coefficient of the weight is \", coefficients[0][1])\n",
    "print(\"the coefficient of the fried potato consumption is \",\n",
    "      coefficients[0][2])\n",
    "print(\"the coefficient of the smoking history is \", coefficients[0][3])\n",
    "print(\"the coefficient of the exercise is \", coefficients[0][4])"
   ]
  },
  {
   "cell_type": "markdown",
   "metadata": {},
   "source": [
    "breakdown of the meaning of each coefficient in the model:\n",
    "We saw in the tutorial that increasing a variable in one unit in the logistic regression model will increase the log odds by the coefficient of the variable. that said, the following holds:\n",
    "\n",
    "increase in 1 unit in the weight variable will decrease the log odds by 0.012560666811786308.\n",
    "increase in 1 unit in the fried potato consumption variable will decrease the log odds by 0.010259718953532913.\n",
    "increase in 1 unit in the smoking history variable will increase the log odds by 1.1010148436754594.\n",
    "increase in 1 unit in the exercise variable will decrease the log odds by 0.8727756824479214."
   ]
  },
  {
   "cell_type": "markdown",
   "metadata": {},
   "source": [
    "### 5. "
   ]
  },
  {
   "cell_type": "code",
   "execution_count": 39,
   "metadata": {},
   "outputs": [
    {
     "name": "stdout",
     "output_type": "stream",
     "text": [
      "the CI for the intercept is  [-2.211003145768179, 2.2109469820600505]\n",
      "the CI for the weight is  [-0.03702248246072696, 0.011901148837154341]\n",
      "the CI for the fried potato consumption is  [-0.06125150829466676, 0.04073207038760093]\n",
      "the CI for the smoking history is  [0.08269617950689367, 2.119333507844025]\n",
      "the CI for the exercise is  [-1.9414330997018887, 0.19588173480604598]\n"
     ]
    }
   ],
   "source": [
    "# calculate CI for the coefficients\n",
    "# first calculate the variance - covariance matrix\n",
    "estimated_p_list = logistic_regression.predict_proba(X)[:, 1]\n",
    "v_mat = np.diag([p * (1 - p) for p in estimated_p_list])\n",
    "var_covar_matrix = np.linalg.inv(X.T @ v_mat @ X)\n",
    "\n",
    "# now use the formula to calculate the CI\n",
    "# for the intercept\n",
    "intercept_ci = [coefficients[0][0] - 1.96 *\n",
    "                np.sqrt(var_covar_matrix[0][0]), coefficients[0][0] + 1.96 * np.sqrt(var_covar_matrix[0][0])]\n",
    "print(\"the CI for the intercept is \", intercept_ci)\n",
    "# for the weight\n",
    "weight_ci = [coefficients[0][1] - 1.96 * np.sqrt(var_covar_matrix[1][1]),\n",
    "             coefficients[0][1] + 1.96 * np.sqrt(var_covar_matrix[1][1])]\n",
    "print(\"the CI for the weight is \", weight_ci)\n",
    "# for the fried potato consumption\n",
    "fried_potato_ci = [coefficients[0][2] - 1.96 *\n",
    "                   np.sqrt(var_covar_matrix[2][2]), coefficients[0][2] + 1.96 * np.sqrt(var_covar_matrix[2][2])]\n",
    "print(\"the CI for the fried potato consumption is \", fried_potato_ci)\n",
    "# for the smoking history\n",
    "smoking_history_ci = [coefficients[0][3] - 1.96 *\n",
    "                      np.sqrt(var_covar_matrix[3][3]), coefficients[0][3] + 1.96 * np.sqrt(var_covar_matrix[3][3])]\n",
    "print(\"the CI for the smoking history is \", smoking_history_ci)\n",
    "# for the exercise\n",
    "exercise_ci = [coefficients[0][4] - 1.96 *\n",
    "               np.sqrt(var_covar_matrix[4][4]), coefficients[0][4] + 1.96 * np.sqrt(var_covar_matrix[4][4])]\n",
    "print(\"the CI for the exercise is \", exercise_ci)\n"
   ]
  },
  {
   "cell_type": "code",
   "execution_count": 40,
   "metadata": {},
   "outputs": [
    {
     "name": "stdout",
     "output_type": "stream",
     "text": [
      "the independent coefficient is  -1.375564345136877\n",
      "the coefficient of the weight is  0.005714721248586724\n",
      "the coefficient of the fried potato consumption is  -0.008898603020086797\n",
      "the coefficient of the smoking history is  0.7298284648963097\n",
      "the coefficient of the exercise is  -0.6418906727771281\n",
      "the population coefficient for the intercept is in the sample CI\n",
      "the population coefficient for the weight is in the sample CI\n",
      "the population coefficient for the fried potato consumption is in the sample CI\n",
      "the population coefficient for the smoking history is in the sample CI\n",
      "the population coefficient for the exercise is in the sample CI\n"
     ]
    }
   ],
   "source": [
    "# calculate the coefficient on the whole data set\n",
    "# create the X and y variables\n",
    "\n",
    "X_population = data[[\n",
    "    \"Weight_(kg)\", \"FriedPotato_Consumption\", \"Smoking_History\", \"Exercise\"]]\n",
    "y_population = data[\"Heart_Disease\"]\n",
    "\n",
    "# add to the X variable a column of 1s\n",
    "X_population = np.hstack((np.ones((X_population.shape[0], 1)), X_population))\n",
    "\n",
    "logistic_regression_population = LogisticRegression()\n",
    "logistic_regression_population.fit(X_population, y_population)\n",
    "\n",
    "coefficients_population = logistic_regression_population.coef_\n",
    "\n",
    "print(\"the independent coefficient is \", coefficients_population[0][0])\n",
    "print(\"the coefficient of the weight is \", coefficients_population[0][1])\n",
    "print(\"the coefficient of the fried potato consumption is \",\n",
    "      coefficients_population[0][2])\n",
    "print(\"the coefficient of the smoking history is \",\n",
    "      coefficients_population[0][3])\n",
    "print(\"the coefficient of the exercise is \", coefficients_population[0][4])\n",
    "\n",
    "# check if the population coefficient is in the sample CI\n",
    "if coefficients_population[0][0] > intercept_ci[0] and coefficients_population[0][0] < intercept_ci[1]:\n",
    "    print(\"the population coefficient for the intercept is in the sample CI\")\n",
    "\n",
    "if coefficients_population[0][1] > weight_ci[0] and coefficients_population[0][1] < weight_ci[1]:\n",
    "    print(\"the population coefficient for the weight is in the sample CI\")\n",
    "\n",
    "if coefficients_population[0][2] > fried_potato_ci[0] and coefficients_population[0][2] < fried_potato_ci[1]:\n",
    "    print(\"the population coefficient for the fried potato consumption is in the sample CI\")\n",
    "\n",
    "if coefficients_population[0][3] > smoking_history_ci[0] and coefficients_population[0][3] < smoking_history_ci[1]:\n",
    "    print(\"the population coefficient for the smoking history is in the sample CI\")\n",
    "\n",
    "if coefficients_population[0][4] > exercise_ci[0] and coefficients_population[0][4] < exercise_ci[1]:\n",
    "    print(\"the population coefficient for the exercise is in the sample CI\")"
   ]
  },
  {
   "cell_type": "markdown",
   "metadata": {},
   "source": [
    "We can say that every coefficient from the whole population is in the matching CI of the coefficient from the sample. "
   ]
  },
  {
   "cell_type": "markdown",
   "metadata": {},
   "source": [
    "### 6."
   ]
  },
  {
   "cell_type": "code",
   "execution_count": 41,
   "metadata": {},
   "outputs": [
    {
     "name": "stdout",
     "output_type": "stream",
     "text": [
      "the independent coefficient is  -0.12356101800365134\n",
      "the coefficient of the weight is  0.0015881938741943687\n",
      "the coefficient of the fried potato consumption is  0.2847377766400284\n",
      "the coefficient of the smoking history is  0.03566457908015351\n",
      "the coefficient of the exercise is  0.18578128270870417\n",
      "the coefficient of the weight_smoking is  0.032775702598704666\n",
      "the coefficient of the weight_exercise is  -0.018421103974764916\n",
      "the coefficient of the weight_fried_potato is  -0.005574503857093337\n",
      "the coefficient of the smoking_exercise is  -1.0130881926177076\n",
      "the coefficient of the smoking_fried_potato is  -0.07308084784063001\n",
      "the coefficient of the exercise_fried_potato is  0.135162686381031\n"
     ]
    }
   ],
   "source": [
    "# add first order interaction terms\n",
    "# there are 12 possible interaction terms - wei\n",
    "sample[\"Weight_Smoking\"] = sample[\"Weight_(kg)\"] * sample[\"Smoking_History\"]\n",
    "sample[\"Weight_Exercise\"] = sample[\"Weight_(kg)\"] * sample[\"Exercise\"]\n",
    "sample[\"weight_fried_potato\"] = sample[\"Weight_(kg)\"] * \\\n",
    "    sample[\"FriedPotato_Consumption\"]\n",
    "sample[\"Smoking_Exercise\"] = sample[\"Smoking_History\"] * sample[\"Exercise\"]\n",
    "sample[\"Smoking_fried_potato\"] = sample[\"Smoking_History\"] * \\\n",
    "    sample[\"FriedPotato_Consumption\"]\n",
    "sample[\"Exercise_fried_potato\"] = sample[\"Exercise\"] * \\\n",
    "    sample[\"FriedPotato_Consumption\"]\n",
    "\n",
    "# create the X and y variables\n",
    "X_first_interaction = sample[[\"Weight_(kg)\", \"FriedPotato_Consumption\", \"Smoking_History\", \"Exercise\", \"Weight_Smoking\",\n",
    "                              \"Weight_Exercise\", \"weight_fried_potato\", \"Smoking_Exercise\", \"Smoking_fried_potato\", \"Exercise_fried_potato\"]]\n",
    "y_first_interaction = sample[\"Heart_Disease\"]\n",
    "\n",
    "# add to the X variable a column of 1s\n",
    "X_first_interaction = np.hstack(\n",
    "    (np.ones((X_first_interaction.shape[0], 1)), X_first_interaction))\n",
    "\n",
    "# find the coefficients\n",
    "logistic_regression_first_interaction = LogisticRegression(max_iter=10000)\n",
    "logistic_regression_first_interaction.fit(\n",
    "    X_first_interaction, y_first_interaction, )\n",
    "\n",
    "coefficients_first_interaction = logistic_regression_first_interaction.coef_\n",
    "print(\"the independent coefficient is \", coefficients_first_interaction[0][0])\n",
    "print(\"the coefficient of the weight is \",\n",
    "      coefficients_first_interaction[0][1])\n",
    "print(\"the coefficient of the fried potato consumption is \",\n",
    "      coefficients_first_interaction[0][2])\n",
    "print(\"the coefficient of the smoking history is \",\n",
    "      coefficients_first_interaction[0][3])\n",
    "print(\"the coefficient of the exercise is \",\n",
    "      coefficients_first_interaction[0][4])\n",
    "print(\"the coefficient of the weight_smoking is \",\n",
    "      coefficients_first_interaction[0][5])\n",
    "print(\"the coefficient of the weight_exercise is \",\n",
    "      coefficients_first_interaction[0][6])\n",
    "print(\"the coefficient of the weight_fried_potato is \",\n",
    "      coefficients_first_interaction[0][7])\n",
    "print(\"the coefficient of the smoking_exercise is \",\n",
    "      coefficients_first_interaction[0][8])\n",
    "print(\"the coefficient of the smoking_fried_potato is \",\n",
    "      coefficients_first_interaction[0][9])\n",
    "print(\"the coefficient of the exercise_fried_potato is \",\n",
    "      coefficients_first_interaction[0][10])"
   ]
  },
  {
   "cell_type": "markdown",
   "metadata": {},
   "source": [
    "which model is better? we will use likelihood ratio test and AIC to answer this question."
   ]
  },
  {
   "cell_type": "markdown",
   "metadata": {},
   "source": [
    "likelihood ratio test:"
   ]
  },
  {
   "cell_type": "code",
   "execution_count": 42,
   "metadata": {},
   "outputs": [
    {
     "name": "stdout",
     "output_type": "stream",
     "text": [
      "the log likelihood of the model with the interaction terms is  -48.69358926524593\n",
      "the log likelihood of the model without the interaction terms is  -56.45551015092353\n",
      "the likelihood ratio test statistic is  15.523841771355194\n",
      "the chi square value is  12.591587243743977\n",
      "the interaction terms are significant\n"
     ]
    }
   ],
   "source": [
    "# perform the likelihood ratio test to see if the interaction terms are significant\n",
    "\n",
    "# first calculate the likelihood of the model with the interaction terms\n",
    "# calculate the estimated probability for each observation\n",
    "estimated_p_list_first_interaction = logistic_regression_first_interaction.predict_proba(\n",
    "    X_first_interaction)[:, 1]\n",
    "# calculate the log likelihood\n",
    "log_likelihood_first_interaction = np.sum(y_first_interaction * np.log(estimated_p_list_first_interaction) + (\n",
    "    1 - y_first_interaction) * np.log(1 - estimated_p_list_first_interaction))\n",
    "print(\"the log likelihood of the model with the interaction terms is \",\n",
    "      log_likelihood_first_interaction)\n",
    "\n",
    "# now calculate the likelihood of the model without the interaction terms. use the already trained logistic_regression model\n",
    "estimated_p_list = logistic_regression.predict_proba(X)[:, 1]\n",
    "# calculate the log likelihood\n",
    "log_likelihood = np.sum(y * np.log(estimated_p_list) +\n",
    "                        (1 - y) * np.log(1 - estimated_p_list))\n",
    "print(\"the log likelihood of the model without the interaction terms is \", log_likelihood)\n",
    "\n",
    "# calculate the likelihood ratio test\n",
    "likelihood_ratio_test = 2 * (log_likelihood_first_interaction - log_likelihood)\n",
    "print(\"the likelihood ratio test statistic is \", likelihood_ratio_test)\n",
    "\n",
    "# find the matching chi square value - we have 10 variables with interaction terms and 4 without them. that is 6 degrees of freedom\n",
    "chi_square_value = stats.chi2.ppf(0.95, 6)\n",
    "print(\"the chi square value is \", chi_square_value)\n",
    "\n",
    "# check if the likelihood ratio test is bigger than the chi square value\n",
    "if likelihood_ratio_test > chi_square_value:\n",
    "    print(\"the interaction terms are significant\")\n",
    "else:\n",
    "    print(\"the interaction terms are not significant\")"
   ]
  },
  {
   "cell_type": "markdown",
   "metadata": {},
   "source": [
    "According to the likelihood ratio test the interaction terms are significant. now we need to check the AIC."
   ]
  },
  {
   "cell_type": "code",
   "execution_count": 43,
   "metadata": {},
   "outputs": [
    {
     "name": "stdout",
     "output_type": "stream",
     "text": [
      "the AIC score for the model with the interaction terms is  -58.69358926524593\n",
      "the AIC score for the model without the interaction terms is  -60.45551015092353\n",
      "the model with the interaction terms is better in the AIC sense\n"
     ]
    }
   ],
   "source": [
    "# calculate AIC score for the model with the interaction terms\n",
    "parameters_first_interaction = 10\n",
    "aic_score_first_interaction = log_likelihood_first_interaction - \\\n",
    "    parameters_first_interaction\n",
    "print(\"the AIC score for the model with the interaction terms is \",\n",
    "      aic_score_first_interaction)\n",
    "\n",
    "# calculate AIC score for the model without the interaction terms\n",
    "parameters = 4\n",
    "aic_score = log_likelihood - parameters\n",
    "print(\"the AIC score for the model without the interaction terms is \", aic_score)\n",
    "\n",
    "# compare the AIC scores\n",
    "if aic_score_first_interaction > aic_score:\n",
    "    print(\"the model with the interaction terms is better in the AIC sense\")\n",
    "else:\n",
    "    print(\"the model without the interaction terms is better in the AIC sense\")"
   ]
  },
  {
   "cell_type": "markdown",
   "metadata": {},
   "source": [
    "According to the AIC the model with the interaction terms is better."
   ]
  },
  {
   "cell_type": "markdown",
   "metadata": {},
   "source": [
    "### 7."
   ]
  },
  {
   "cell_type": "markdown",
   "metadata": {},
   "source": [
    "We will choose AIC score for this section.\n",
    "We have 17 variables in our data. we will add another 13."
   ]
  },
  {
   "cell_type": "code",
   "execution_count": 44,
   "metadata": {},
   "outputs": [],
   "source": [
    "# create 13 first order interaction terms\n",
    "# create a list of the interaction terms\n",
    "stop = 0\n",
    "count = 0\n",
    "interaction_terms = []\n",
    "for i in range(len(variables_list)):\n",
    "    if stop == 1:\n",
    "        break\n",
    "    for j in range(i + 1, len(variables_list)):\n",
    "        if stop == 1:\n",
    "            break\n",
    "        interaction_terms.append(variables_list[i] + \"_\" + variables_list[j])\n",
    "        sample[interaction_terms[-1]] = sample[variables_list[i]] * \\\n",
    "            sample[variables_list[j]]\n",
    "        count += 1\n",
    "        if count == 14:\n",
    "            stop = 1"
   ]
  },
  {
   "cell_type": "code",
   "execution_count": 45,
   "metadata": {},
   "outputs": [],
   "source": [
    "def calculate_AIC(X, y):\n",
    "    logistic_regression = LogisticRegression(max_iter=10000)\n",
    "    logistic_regression.fit(X, y)\n",
    "    estimated_p_list = logistic_regression.predict_proba(X)[:, 1]\n",
    "    log_likelihood = np.sum(y * np.log(estimated_p_list) +\n",
    "                            (1 - y) * np.log(1 - estimated_p_list))\n",
    "    parameters = len(logistic_regression.coef_[0])\n",
    "    aic_score = log_likelihood - parameters\n",
    "\n",
    "    return aic_score"
   ]
  },
  {
   "cell_type": "markdown",
   "metadata": {},
   "source": [
    "Forward Stepwise Selection:"
   ]
  },
  {
   "cell_type": "code",
   "execution_count": 46,
   "metadata": {},
   "outputs": [
    {
     "name": "stdout",
     "output_type": "stream",
     "text": [
      "the variables that were selected are  ['Diabetes', 'Smoking_History', 'BMI', 'Depression', 'Exercise_Green_Vegetables_Consumption', 'Fruit_Consumption']\n"
     ]
    }
   ],
   "source": [
    "EPSILON = 0.5  # arbitrary small number for the AIC comparison\n",
    "current_AIC = -100000\n",
    "variable_number = 0\n",
    "variables_complete_list = variables_list + interaction_terms\n",
    "used_variables = []\n",
    "# perform forward stepwise selection\n",
    "while variable_number < len(variables_complete_list):\n",
    "    variable_number += 1\n",
    "    max_aic = -100000\n",
    "    max_variable = None\n",
    "    for variable in variables_complete_list:\n",
    "        if variable in used_variables:\n",
    "            continue\n",
    "\n",
    "        current_variables = used_variables + [variable]\n",
    "        X = sample[current_variables]\n",
    "        y = sample[\"Heart_Disease\"]\n",
    "        X = np.hstack((np.ones((X.shape[0], 1)), X))\n",
    "        aic_score = calculate_AIC(X, y)\n",
    "\n",
    "        if aic_score > max_aic:\n",
    "            max_aic = aic_score\n",
    "            max_variable = variable\n",
    "\n",
    "    if max_aic > current_AIC + EPSILON:\n",
    "        current_AIC = max_aic\n",
    "        used_variables.append(max_variable)\n",
    "\n",
    "    else:\n",
    "        break\n",
    "\n",
    "print(\"the variables that were selected are \", used_variables)\n"
   ]
  },
  {
   "cell_type": "markdown",
   "metadata": {},
   "source": [
    "Backward Stepwise Selection:"
   ]
  },
  {
   "cell_type": "code",
   "execution_count": 47,
   "metadata": {},
   "outputs": [
    {
     "name": "stdout",
     "output_type": "stream",
     "text": [
      "the variables that were selected are  ['Smoking_History', 'Skin_Cancer', 'Depression', 'Diabetes', 'Weight_(kg)', 'Height_(cm)', 'BMI', 'FriedPotato_Consumption', 'Numerical_Age_Category', 'Green_Vegetables_Consumption', 'Fruit_Consumption', 'Alcohol_Consumption', 'Exercise_Diabetes', 'Exercise_Weight_(kg)', 'Exercise_Height_(cm)', 'Exercise_FriedPotato_Consumption', 'Exercise_Numerical_Age_Category', 'Exercise_Green_Vegetables_Consumption', 'Exercise_Fruit_Consumption', 'Exercise_Alcohol_Consumption']\n",
      "the number of variables is  20\n"
     ]
    }
   ],
   "source": [
    "EPSILON = 0.5  # arbitrary small number for the AIC comparison.\n",
    "current_AIC = -100000\n",
    "variable_number = 30\n",
    "variables_complete_list = variables_list + interaction_terms\n",
    "used_variables = variables_complete_list\n",
    "# perform forward stepwise selection\n",
    "while variable_number > 1:\n",
    "    variable_number -= 1\n",
    "    max_aic = -100000\n",
    "    max_variable = None\n",
    "    for variable in used_variables:\n",
    "        current_variables = used_variables.copy()\n",
    "        current_variables.remove(variable)\n",
    "        X = sample[current_variables]\n",
    "        y = sample[\"Heart_Disease\"]\n",
    "        X = np.hstack((np.ones((X.shape[0], 1)), X))\n",
    "        aic_score = calculate_AIC(X, y)\n",
    "\n",
    "        if aic_score > max_aic:\n",
    "            max_aic = aic_score\n",
    "            max_variable = variable\n",
    "\n",
    "    if max_aic > current_AIC + EPSILON:\n",
    "        current_AIC = max_aic\n",
    "        used_variables.remove(max_variable)\n",
    "\n",
    "    else:\n",
    "        break\n",
    "\n",
    "print(\"the variables that were selected are \", used_variables)\n",
    "print(\"the number of variables is \", len(used_variables))"
   ]
  },
  {
   "cell_type": "markdown",
   "metadata": {},
   "source": [
    "We didn't get the same results in the forward and backward stepwise selection. We got less variables in the forward stepwise selection, but the log likelihood is higher in the backward stepwise selection."
   ]
  },
  {
   "cell_type": "markdown",
   "metadata": {},
   "source": [
    "### 8."
   ]
  },
  {
   "cell_type": "markdown",
   "metadata": {},
   "source": [
    "We will choose BIC score for this section."
   ]
  },
  {
   "cell_type": "code",
   "execution_count": 48,
   "metadata": {},
   "outputs": [],
   "source": [
    "def calculate_BIC(X, y):\n",
    "    logistic_regression = LogisticRegression(max_iter=10000)\n",
    "    logistic_regression.fit(X, y)\n",
    "    estimated_p_list = logistic_regression.predict_proba(X)[:, 1]\n",
    "    log_likelihood = np.sum(y * np.log(estimated_p_list) +\n",
    "                            (1 - y) * np.log(1 - estimated_p_list))\n",
    "    parameters = len(logistic_regression.coef_[0])\n",
    "    bic_score = log_likelihood - parameters * np.log(X.shape[0]) / 2\n",
    "\n",
    "    return bic_score"
   ]
  },
  {
   "cell_type": "markdown",
   "metadata": {},
   "source": [
    "Forward Stepwise Selection:"
   ]
  },
  {
   "cell_type": "code",
   "execution_count": 49,
   "metadata": {},
   "outputs": [
    {
     "name": "stdout",
     "output_type": "stream",
     "text": [
      "the variables that were selected are  ['Diabetes', 'Smoking_History', 'BMI']\n",
      "the number of variables is  3\n"
     ]
    }
   ],
   "source": [
    "EPSILON = 0.5  # arbitrary small number for the AIC comparison\n",
    "current_BIC = -100000\n",
    "variable_number = 0\n",
    "variables_complete_list = variables_list + interaction_terms\n",
    "used_variables = []\n",
    "# perform forward stepwise selection\n",
    "while variable_number < len(variables_complete_list):\n",
    "    variable_number += 1\n",
    "    max_bic = -100000\n",
    "    max_variable = None\n",
    "    for variable in variables_complete_list:\n",
    "        if variable in used_variables:\n",
    "            continue\n",
    "\n",
    "        current_variables = used_variables + [variable]\n",
    "        X = sample[current_variables]\n",
    "        y = sample[\"Heart_Disease\"]\n",
    "        X = np.hstack((np.ones((X.shape[0], 1)), X))\n",
    "        bic_score = calculate_BIC(X, y)\n",
    "\n",
    "        if bic_score > max_bic:\n",
    "            max_bic = bic_score\n",
    "            max_variable = variable\n",
    "\n",
    "    if max_bic > current_BIC + EPSILON:\n",
    "        current_BIC = max_bic\n",
    "        used_variables.append(max_variable)\n",
    "\n",
    "    else:\n",
    "        break\n",
    "\n",
    "print(\"the variables that were selected are \", used_variables)\n",
    "print(\"the number of variables is \", len(used_variables))"
   ]
  },
  {
   "cell_type": "markdown",
   "metadata": {},
   "source": [
    "Backward Stepwise Selection:"
   ]
  },
  {
   "cell_type": "code",
   "execution_count": 50,
   "metadata": {},
   "outputs": [
    {
     "name": "stdout",
     "output_type": "stream",
     "text": [
      "the variables that were selected are  ['Smoking_History', 'Depression', 'Diabetes', 'Exercise_Weight_(kg)', 'Exercise_Height_(cm)', 'Exercise_Green_Vegetables_Consumption']\n",
      "the number of variables is  6\n"
     ]
    }
   ],
   "source": [
    "EPSILON = 0.5  # arbitrary small number for the AIC comparison.\n",
    "current_BIC = -100000\n",
    "variable_number = 30\n",
    "variables_complete_list = variables_list + interaction_terms\n",
    "used_variables = variables_complete_list\n",
    "# perform forward stepwise selection\n",
    "while variable_number > 1:\n",
    "    variable_number -= 1\n",
    "    max_bic = -100000\n",
    "    max_variable = None\n",
    "    for variable in used_variables:\n",
    "        current_variables = used_variables.copy()\n",
    "        current_variables.remove(variable)\n",
    "        X = sample[current_variables]\n",
    "        y = sample[\"Heart_Disease\"]\n",
    "        X = np.hstack((np.ones((X.shape[0], 1)), X))\n",
    "        bic_score = calculate_BIC(X, y)\n",
    "\n",
    "        if bic_score > max_bic:\n",
    "            max_bic = bic_score\n",
    "            max_variable = variable\n",
    "\n",
    "    if max_bic > current_BIC + EPSILON:\n",
    "        current_BIC = max_bic\n",
    "        used_variables.remove(max_variable)\n",
    "\n",
    "    else:\n",
    "        break\n",
    "\n",
    "print(\"the variables that were selected are \", used_variables)\n",
    "print(\"the number of variables is \", len(used_variables))\n"
   ]
  },
  {
   "cell_type": "markdown",
   "metadata": {},
   "source": [
    "we didn't get the same model in the forward and backward stepwise selection. "
   ]
  },
  {
   "cell_type": "markdown",
   "metadata": {},
   "source": [
    "which model is the best? it depends on the score and the method we choose. "
   ]
  },
  {
   "cell_type": "markdown",
   "metadata": {},
   "source": [
    "in comparison to the AIC score, the BIC score penalties in a higher rate for adding variables. We can use AIC if we aim to higher accuracy and BIC if we aim to lower complexity and high explainability."
   ]
  },
  {
   "cell_type": "markdown",
   "metadata": {},
   "source": [
    "Forward selection can be more computationally efficient when dealing with a large set of features, as it may identify an optimal subset without evaluating all possible combinations. However, it may miss interactions between features. Backward selection, starting with a full model, takes into account interactions from the outset but might be computationally intensive with many features. The choice between them depends on computational constraints, the number of features, and the potential for feature interactions."
   ]
  }
 ],
 "metadata": {
  "kernelspec": {
   "display_name": "Python 3",
   "language": "python",
   "name": "python3"
  },
  "language_info": {
   "codemirror_mode": {
    "name": "ipython",
    "version": 3
   },
   "file_extension": ".py",
   "mimetype": "text/x-python",
   "name": "python",
   "nbconvert_exporter": "python",
   "pygments_lexer": "ipython3",
   "version": "3.10.9"
  },
  "orig_nbformat": 4
 },
 "nbformat": 4,
 "nbformat_minor": 2
}
