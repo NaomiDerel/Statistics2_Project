{
 "cells": [
  {
   "cell_type": "markdown",
   "metadata": {},
   "source": [
    "# Statistics Project - Assignment 4"
   ]
  },
  {
   "cell_type": "markdown",
   "metadata": {},
   "source": [
    "## Previous Assignments"
   ]
  },
  {
   "cell_type": "markdown",
   "metadata": {},
   "source": [
    "We picked the \"Cardiovascular Diseases Risk Prediction Dataset\".\n",
    "\n",
    "https://www.kaggle.com/datasets/alphiree/cardiovascular-diseases-risk-prediction-dataset?resource=download"
   ]
  },
  {
   "cell_type": "code",
   "execution_count": 746,
   "metadata": {},
   "outputs": [],
   "source": [
    "import numpy as np\n",
    "import pandas as pd\n",
    "import matplotlib.pyplot as plt\n",
    "import scipy.stats as stats\n",
    "\n",
    "np.random.seed(1012)\n",
    "\n",
    "data = pd.read_csv('CVD_cleaned.csv')\n",
    "\n",
    "# transformation 1:\n",
    "data.loc[data[\"Diabetes\"] ==\n",
    "         'No, pre-diabetes or borderline diabetes', \"Diabetes\"] = 'at risk'\n",
    "data = data[data[\"Diabetes\"] != 'Yes, but female told only during pregnancy']\n",
    "\n",
    "# transformation 2:\n",
    "data[\"Numerical_Age_Category\"] = data[\"Age_Category\"].apply(\n",
    "    lambda x: int(x[:2]))"
   ]
  },
  {
   "cell_type": "markdown",
   "metadata": {},
   "source": [
    "## Part A - Linear Regression"
   ]
  },
  {
   "cell_type": "markdown",
   "metadata": {},
   "source": [
    "**Research question:** Do changes in exercise (binary), sex (binary), green vegetables consumption (ordinal), and height (continuous), influence weight?"
   ]
  },
  {
   "cell_type": "code",
   "execution_count": 747,
   "metadata": {},
   "outputs": [
    {
     "data": {
      "text/html": [
       "<div>\n",
       "<style scoped>\n",
       "    .dataframe tbody tr th:only-of-type {\n",
       "        vertical-align: middle;\n",
       "    }\n",
       "\n",
       "    .dataframe tbody tr th {\n",
       "        vertical-align: top;\n",
       "    }\n",
       "\n",
       "    .dataframe thead th {\n",
       "        text-align: right;\n",
       "    }\n",
       "</style>\n",
       "<table border=\"1\" class=\"dataframe\">\n",
       "  <thead>\n",
       "    <tr style=\"text-align: right;\">\n",
       "      <th></th>\n",
       "      <th>Exercise</th>\n",
       "      <th>Sex</th>\n",
       "      <th>Green_Vegetables_Consumption</th>\n",
       "      <th>Height_(cm)</th>\n",
       "      <th>Weight_(kg)</th>\n",
       "    </tr>\n",
       "  </thead>\n",
       "  <tbody>\n",
       "    <tr>\n",
       "      <th>102725</th>\n",
       "      <td>Yes</td>\n",
       "      <td>Female</td>\n",
       "      <td>60.0</td>\n",
       "      <td>168.0</td>\n",
       "      <td>72.57</td>\n",
       "    </tr>\n",
       "    <tr>\n",
       "      <th>195809</th>\n",
       "      <td>No</td>\n",
       "      <td>Female</td>\n",
       "      <td>4.0</td>\n",
       "      <td>155.0</td>\n",
       "      <td>59.87</td>\n",
       "    </tr>\n",
       "    <tr>\n",
       "      <th>65238</th>\n",
       "      <td>Yes</td>\n",
       "      <td>Male</td>\n",
       "      <td>12.0</td>\n",
       "      <td>180.0</td>\n",
       "      <td>65.77</td>\n",
       "    </tr>\n",
       "    <tr>\n",
       "      <th>167460</th>\n",
       "      <td>Yes</td>\n",
       "      <td>Female</td>\n",
       "      <td>16.0</td>\n",
       "      <td>155.0</td>\n",
       "      <td>62.14</td>\n",
       "    </tr>\n",
       "    <tr>\n",
       "      <th>295267</th>\n",
       "      <td>Yes</td>\n",
       "      <td>Female</td>\n",
       "      <td>16.0</td>\n",
       "      <td>157.0</td>\n",
       "      <td>59.87</td>\n",
       "    </tr>\n",
       "  </tbody>\n",
       "</table>\n",
       "</div>"
      ],
      "text/plain": [
       "       Exercise     Sex  Green_Vegetables_Consumption  Height_(cm)   \n",
       "102725      Yes  Female                          60.0        168.0  \\\n",
       "195809       No  Female                           4.0        155.0   \n",
       "65238       Yes    Male                          12.0        180.0   \n",
       "167460      Yes  Female                          16.0        155.0   \n",
       "295267      Yes  Female                          16.0        157.0   \n",
       "\n",
       "        Weight_(kg)  \n",
       "102725        72.57  \n",
       "195809        59.87  \n",
       "65238         65.77  \n",
       "167460        62.14  \n",
       "295267        59.87  "
      ]
     },
     "execution_count": 747,
     "metadata": {},
     "output_type": "execute_result"
    }
   ],
   "source": [
    "# Get a sample identical to project 3:\n",
    "\n",
    "small_data = data[['Exercise', 'Sex', 'Green_Vegetables_Consumption', 'Height_(cm)', 'Weight_(kg)']]\n",
    "sample = small_data.sample(200)\n",
    "sample.head()"
   ]
  },
  {
   "cell_type": "code",
   "execution_count": 748,
   "metadata": {},
   "outputs": [],
   "source": [
    "n = len(sample)\n",
    "\n",
    "# Transform categorical variables to numeric:\n",
    "sample_sex_values = sample['Sex'].apply(lambda x: 1 if x == 'Male' else 0)\n",
    "sample_exercise_values = sample['Exercise'].apply(lambda x: 1 if x == 'Yes' else 0)\n",
    "\n",
    "# Create X matrix with a column of ones, and parameters:\n",
    "x1 = np.concatenate((np.ones((n,1)), np.array(sample_exercise_values).reshape(-1,1)), axis=1)\n",
    "x2 = np.concatenate((x1, np.array(sample_sex_values).reshape(-1,1)), axis=1)\n",
    "X = np.concatenate((x2, np.array(sample.iloc[:, 2:4])), axis=1)\n",
    "\n",
    "# Create y vector:\n",
    "y = np.array(sample.iloc[:, 4]).reshape(-1,1)\n",
    "\n",
    "# Calculate the estimated coefficients from equation:\n",
    "beta = np.linalg.inv(X.T @ X) @ X.T @ y\n",
    "p = len(beta)"
   ]
  },
  {
   "cell_type": "markdown",
   "metadata": {},
   "source": [
    "### 1."
   ]
  },
  {
   "cell_type": "code",
   "execution_count": 749,
   "metadata": {},
   "outputs": [],
   "source": [
    "# we will assume all the CI's are 95% confidence intervals:\n",
    "alpha = 0.05"
   ]
  },
  {
   "cell_type": "markdown",
   "metadata": {},
   "source": [
    "#### 1.a."
   ]
  },
  {
   "cell_type": "code",
   "execution_count": 788,
   "metadata": {},
   "outputs": [
    {
     "name": "stdout",
     "output_type": "stream",
     "text": [
      "se_beta: [25.30442781  2.58807405  3.09964348  0.06708253  0.15701055]\n",
      "beta 0 CI: (-168.9817, -69.7901)\n",
      "beta 1 CI: (-9.9622, 0.1829)\n",
      "beta 2 CI: (-7.8993, 4.2511)\n",
      "beta 3 CI: (-0.1319, 0.1311)\n",
      "beta 4 CI: (0.9070, 1.5225)\n"
     ]
    }
   ],
   "source": [
    "# a) Find normal estimated CI:\n",
    "\n",
    "var_eps = (1/(n - p)) * np.sum((y - X @ beta)**2)\n",
    "C = np.linalg.inv(X.T @ X)\n",
    "se_beta = np.sqrt(var_eps * np.diag(C))\n",
    "print(f\"se_beta: {se_beta}\")\n",
    "\n",
    "z_score = stats.norm.ppf(1-(alpha/2))\n",
    "\n",
    "ci_norm_list = []\n",
    "\n",
    "for i, b in enumerate(beta):\n",
    "    ci = (b - z_score * se_beta[i], b + z_score * se_beta[i])\n",
    "    ci_norm_list.append(ci)\n",
    "    print(f\"beta {i} CI: ({ci[0][0]:.4f}, {ci[1][0]:.4f})\")"
   ]
  },
  {
   "cell_type": "markdown",
   "metadata": {},
   "source": [
    "#### 1.b."
   ]
  },
  {
   "cell_type": "code",
   "execution_count": 751,
   "metadata": {},
   "outputs": [],
   "source": [
    "# b) find s.e. bootstrap estimated CI:\n",
    "\n",
    "## BOOTSTRAP:\n",
    "B = 400\n",
    "beta_bootstrap = np.zeros((B, p))\n",
    "\n",
    "# Run bootstrap:\n",
    "for i in range(B):\n",
    "    # sample from X with replacement:\n",
    "    random_row_indices = np.random.choice(n, n, replace=True)\n",
    "    sample_row = X[random_row_indices, :]\n",
    "    # calculate beta_hat:\n",
    "    beta_hat = np.linalg.inv(sample_row.T @ sample_row) @ sample_row.T @ y\n",
    "    beta_bootstrap[i, :] = beta_hat.reshape(-1)\n",
    "\n",
    "# Calculate the standard error of each beta:\n",
    "se_bootstrap = np.std(beta_bootstrap, axis=0)"
   ]
  },
  {
   "cell_type": "code",
   "execution_count": 752,
   "metadata": {},
   "outputs": [
    {
     "name": "stdout",
     "output_type": "stream",
     "text": [
      "beta 0 CI: (-201.8060, -36.9658)\n",
      "beta 1 CI: (-13.0778, 3.2984)\n",
      "beta 2 CI: (-11.9687, 8.3205)\n",
      "beta 3 CI: (-0.2140, 0.2132)\n",
      "beta 4 CI: (0.7045, 1.7251)\n"
     ]
    }
   ],
   "source": [
    "ci_boot_se_list = []\n",
    "\n",
    "# Calculate the CI's:\n",
    "for i, b in enumerate(beta):\n",
    "    ci = (b - z_score * se_bootstrap[i], b + z_score * se_bootstrap[i])\n",
    "    ci_boot_se_list.append(ci)\n",
    "    print(f\"beta {i} CI: ({ci[0][0]:.4f}, {ci[1][0]:.4f})\")"
   ]
  },
  {
   "cell_type": "markdown",
   "metadata": {},
   "source": [
    "#### 1.c."
   ]
  },
  {
   "cell_type": "code",
   "execution_count": 753,
   "metadata": {},
   "outputs": [
    {
     "name": "stdout",
     "output_type": "stream",
     "text": [
      "beta 0 CI: (-394.5223, -232.2188)\n",
      "beta 1 CI: (-18.5389, -2.1828)\n",
      "beta 2 CI: (-14.0203, 7.2964)\n",
      "beta 3 CI: (-0.2188, 0.2217)\n",
      "beta 4 CI: (1.8588, 2.8896)\n"
     ]
    }
   ],
   "source": [
    "# c) find pivot estimated CI:\n",
    "ci_pivot_list = []\n",
    "\n",
    "for i, b in enumerate(beta):\n",
    "    boot_b = beta_bootstrap[:, i]\n",
    "    quantile1 = np.quantile(boot_b, 1-(alpha/2), axis=0)\n",
    "    quantile2 = np.quantile(boot_b, alpha/2, axis=0)\n",
    "    ci = (2*b - quantile1, 2*b - quantile2)\n",
    "    ci_pivot_list.append(ci)\n",
    "    print(f\"beta {i} CI: ({ci[0][0]:.4f}, {ci[1][0]:.4f})\")"
   ]
  },
  {
   "cell_type": "markdown",
   "metadata": {},
   "source": [
    "#### 1.d."
   ]
  },
  {
   "cell_type": "code",
   "execution_count": 754,
   "metadata": {},
   "outputs": [
    {
     "name": "stdout",
     "output_type": "stream",
     "text": [
      "beta 0 CI: (-6.5530, 155.7505)\n",
      "beta 1 CI: (-7.5966, 8.7595)\n",
      "beta 2 CI: (-10.9447, 10.3720)\n",
      "beta 3 CI: (-0.2225, 0.2180)\n",
      "beta 4 CI: (-0.4601, 0.5708)\n"
     ]
    }
   ],
   "source": [
    "# d) find percentile estimated CI:\n",
    "ci_prec_list = []\n",
    "\n",
    "for i, b in enumerate(beta):\n",
    "    boot_b = beta_bootstrap[:, i]\n",
    "    quantile1 = np.quantile(boot_b, 1-(alpha/2), axis=0)\n",
    "    quantile2 = np.quantile(boot_b, alpha/2, axis=0)\n",
    "    ci = (quantile2, quantile1)\n",
    "    ci_prec_list.append(ci)\n",
    "    print(f\"beta {i} CI: ({ci[0]:.4f}, {ci[1]:.4f})\")"
   ]
  },
  {
   "cell_type": "markdown",
   "metadata": {},
   "source": [
    "### 2."
   ]
  },
  {
   "cell_type": "code",
   "execution_count": 755,
   "metadata": {},
   "outputs": [],
   "source": [
    "# beta on full population:\n",
    "\n",
    "data_n = len(data)\n",
    "\n",
    "# Transform categorical variables to numeric:\n",
    "data_sex_values = data['Sex'].apply(lambda x: 1 if x == 'Male' else 0)\n",
    "data_exercise_values = data['Exercise'].apply(lambda x: 1 if x == 'Yes' else 0)\n",
    "\n",
    "# Create X matrix with a column of ones, and parameters:\n",
    "x1_data = np.concatenate((np.ones((data_n,1)), np.array(data_exercise_values).reshape(-1,1)), axis=1)\n",
    "x2_data = np.concatenate((x1_data, np.array(data_sex_values).reshape(-1,1)), axis=1)\n",
    "X_data = np.concatenate((x2_data, np.array(small_data.iloc[:, 2:4])), axis=1)\n",
    "# print(X_data)\n",
    "\n",
    "# Create y vector:\n",
    "y_data = np.array(small_data.iloc[:, 4]).reshape(-1,1)\n",
    "# print(y_data)\n",
    "\n",
    "# Calculate the estimated coefficients from equation:\n",
    "beta_data = np.linalg.inv(X_data.T @ X_data) @ X_data.T @ y_data"
   ]
  },
  {
   "cell_type": "code",
   "execution_count": 756,
   "metadata": {},
   "outputs": [
    {
     "name": "stdout",
     "output_type": "stream",
     "text": [
      "Length of CI's per beta for each method:\n"
     ]
    },
    {
     "data": {
      "text/html": [
       "<div>\n",
       "<style scoped>\n",
       "    .dataframe tbody tr th:only-of-type {\n",
       "        vertical-align: middle;\n",
       "    }\n",
       "\n",
       "    .dataframe tbody tr th {\n",
       "        vertical-align: top;\n",
       "    }\n",
       "\n",
       "    .dataframe thead th {\n",
       "        text-align: right;\n",
       "    }\n",
       "</style>\n",
       "<table border=\"1\" class=\"dataframe\">\n",
       "  <thead>\n",
       "    <tr style=\"text-align: right;\">\n",
       "      <th></th>\n",
       "      <th>normal_CI</th>\n",
       "      <th>bootstrap_se_CI</th>\n",
       "      <th>pivot_CI</th>\n",
       "      <th>percentile_CI</th>\n",
       "    </tr>\n",
       "  </thead>\n",
       "  <tbody>\n",
       "    <tr>\n",
       "      <th>0</th>\n",
       "      <td>139.412264</td>\n",
       "      <td>164.840163</td>\n",
       "      <td>162.303461</td>\n",
       "      <td>162.303461</td>\n",
       "    </tr>\n",
       "    <tr>\n",
       "      <th>1</th>\n",
       "      <td>14.258740</td>\n",
       "      <td>16.376186</td>\n",
       "      <td>16.356119</td>\n",
       "      <td>16.356119</td>\n",
       "    </tr>\n",
       "    <tr>\n",
       "      <th>2</th>\n",
       "      <td>17.077182</td>\n",
       "      <td>20.289211</td>\n",
       "      <td>21.316702</td>\n",
       "      <td>21.316702</td>\n",
       "    </tr>\n",
       "    <tr>\n",
       "      <th>3</th>\n",
       "      <td>0.369585</td>\n",
       "      <td>0.427261</td>\n",
       "      <td>0.440552</td>\n",
       "      <td>0.440552</td>\n",
       "    </tr>\n",
       "    <tr>\n",
       "      <th>4</th>\n",
       "      <td>0.865034</td>\n",
       "      <td>1.020587</td>\n",
       "      <td>1.030850</td>\n",
       "      <td>1.030850</td>\n",
       "    </tr>\n",
       "  </tbody>\n",
       "</table>\n",
       "</div>"
      ],
      "text/plain": [
       "    normal_CI  bootstrap_se_CI    pivot_CI  percentile_CI\n",
       "0  139.412264       164.840163  162.303461     162.303461\n",
       "1   14.258740        16.376186   16.356119      16.356119\n",
       "2   17.077182        20.289211   21.316702      21.316702\n",
       "3    0.369585         0.427261    0.440552       0.440552\n",
       "4    0.865034         1.020587    1.030850       1.030850"
      ]
     },
     "metadata": {},
     "output_type": "display_data"
    },
    {
     "name": "stdout",
     "output_type": "stream",
     "text": [
      "Does CI contain 'true' beta for each method:\n"
     ]
    },
    {
     "data": {
      "text/html": [
       "<div>\n",
       "<style scoped>\n",
       "    .dataframe tbody tr th:only-of-type {\n",
       "        vertical-align: middle;\n",
       "    }\n",
       "\n",
       "    .dataframe tbody tr th {\n",
       "        vertical-align: top;\n",
       "    }\n",
       "\n",
       "    .dataframe thead th {\n",
       "        text-align: right;\n",
       "    }\n",
       "</style>\n",
       "<table border=\"1\" class=\"dataframe\">\n",
       "  <thead>\n",
       "    <tr style=\"text-align: right;\">\n",
       "      <th></th>\n",
       "      <th>normal_CI</th>\n",
       "      <th>bootstrap_se_CI</th>\n",
       "      <th>pivot_CI</th>\n",
       "      <th>percentile_CI</th>\n",
       "    </tr>\n",
       "  </thead>\n",
       "  <tbody>\n",
       "    <tr>\n",
       "      <th>0</th>\n",
       "      <td>True</td>\n",
       "      <td>True</td>\n",
       "      <td>False</td>\n",
       "      <td>False</td>\n",
       "    </tr>\n",
       "    <tr>\n",
       "      <th>1</th>\n",
       "      <td>True</td>\n",
       "      <td>True</td>\n",
       "      <td>True</td>\n",
       "      <td>True</td>\n",
       "    </tr>\n",
       "    <tr>\n",
       "      <th>2</th>\n",
       "      <td>True</td>\n",
       "      <td>True</td>\n",
       "      <td>True</td>\n",
       "      <td>True</td>\n",
       "    </tr>\n",
       "    <tr>\n",
       "      <th>3</th>\n",
       "      <td>True</td>\n",
       "      <td>True</td>\n",
       "      <td>True</td>\n",
       "      <td>True</td>\n",
       "    </tr>\n",
       "    <tr>\n",
       "      <th>4</th>\n",
       "      <td>True</td>\n",
       "      <td>True</td>\n",
       "      <td>False</td>\n",
       "      <td>False</td>\n",
       "    </tr>\n",
       "  </tbody>\n",
       "</table>\n",
       "</div>"
      ],
      "text/plain": [
       "   normal_CI  bootstrap_se_CI  pivot_CI  percentile_CI\n",
       "0       True             True     False          False\n",
       "1       True             True      True           True\n",
       "2       True             True      True           True\n",
       "3       True             True      True           True\n",
       "4       True             True     False          False"
      ]
     },
     "metadata": {},
     "output_type": "display_data"
    }
   ],
   "source": [
    "# compare confidence intervals to beta on full population:\n",
    "\n",
    "len_res_df = pd.DataFrame(columns=['normal_CI', 'bootstrap_se_CI', 'pivot_CI', 'percentile_CI'])\n",
    "contains_res_df = pd.DataFrame(columns=['normal_CI', 'bootstrap_se_CI', 'pivot_CI', 'percentile_CI'])\n",
    "\n",
    "def ci_length(ci):\n",
    "    res = ci[1] - ci[0]\n",
    "    if type(res) == np.ndarray:\n",
    "        return res[0]\n",
    "    return res\n",
    "\n",
    "def contains_ci(ci, beta):\n",
    "    return (ci[0] <= beta <= ci[1])[0]\n",
    "\n",
    "for i in range(len(beta)):\n",
    "    len_res_df.loc[i] = [ci_length(ci_norm_list[i]), ci_length(ci_boot_se_list[i]), ci_length(ci_pivot_list[i]), ci_length(ci_prec_list[i])]\n",
    "    contains_res_df.loc[i] = [contains_ci(ci_norm_list[i], beta_data[i]), contains_ci(ci_boot_se_list[i], beta_data[i]), contains_ci(ci_pivot_list[i], beta_data[i]), contains_ci(ci_prec_list[i], beta_data[i])]\n",
    "\n",
    "print(\"Length of CI's per beta for each method:\")\n",
    "display(len_res_df)\n",
    "\n",
    "print(\"Does CI contain 'true' beta for each method:\")\n",
    "display(contains_res_df)"
   ]
  },
  {
   "cell_type": "markdown",
   "metadata": {},
   "source": [
    "### 3."
   ]
  },
  {
   "cell_type": "code",
   "execution_count": 757,
   "metadata": {},
   "outputs": [],
   "source": [
    "# get 100 new points from the population:\n",
    "\n",
    "n_new = 100\n",
    "\n",
    "data_without_sample = small_data.drop(sample.index)\n",
    "new_data = data_without_sample.sample(n_new)\n",
    "\n",
    "# Transform categorical variables to numeric:\n",
    "new_data_sex_values = new_data['Sex'].apply(lambda x: 1 if x == 'Male' else 0)\n",
    "new_data_exercise_values = new_data['Exercise'].apply(lambda x: 1 if x == 'Yes' else 0)\n",
    "\n",
    "# Create X matrix with a column of ones, and parameters:\n",
    "x1_new_data = np.concatenate((np.ones((n_new,1)), np.array(new_data_exercise_values).reshape(-1,1)), axis=1)\n",
    "x2_new_data = np.concatenate((x1_new_data, np.array(new_data_sex_values).reshape(-1,1)), axis=1)\n",
    "X_new = np.concatenate((x2_new_data, np.array(new_data.iloc[:, 2:4])), axis=1)\n",
    "\n",
    "# Create y vector:\n",
    "y_new = np.array(new_data.iloc[:, 4]).reshape(-1,1)"
   ]
  },
  {
   "cell_type": "markdown",
   "metadata": {},
   "source": [
    "#### 3.a."
   ]
  },
  {
   "cell_type": "code",
   "execution_count": 758,
   "metadata": {},
   "outputs": [
    {
     "name": "stdout",
     "output_type": "stream",
     "text": [
      "(100, 1)\n"
     ]
    }
   ],
   "source": [
    "# a) predict y_new using beta from part 1:\n",
    "y_new_pred = X_new @ beta\n",
    "print(y_new_pred.shape)"
   ]
  },
  {
   "cell_type": "markdown",
   "metadata": {},
   "source": [
    "#### 3.b."
   ]
  },
  {
   "cell_type": "code",
   "execution_count": 759,
   "metadata": {},
   "outputs": [],
   "source": [
    "# b) find CI for expected value of y_new:\n",
    "\n",
    "## BOOTSTRAP:\n",
    "pred_bootstrap = np.zeros((B, n_new))\n",
    "\n",
    "# Run bootstrap:\n",
    "for i in range(B):\n",
    "    # sample from sample X with replacement:\n",
    "    random_row_indices = np.random.choice(n, n, replace=True)\n",
    "    sample_row = X[random_row_indices, :]\n",
    "    # calculate beta_hat:\n",
    "    beta_hat = np.linalg.inv(sample_row.T @ sample_row) @ sample_row.T @ y\n",
    "    \n",
    "    y_pred = X_new @ beta_hat\n",
    "    pred_bootstrap[i, :] = y_pred.reshape(-1)\n",
    "\n",
    "# Calculate the standard error:\n",
    "se_pred_bootstrap = np.std(pred_bootstrap, axis=0)\n",
    "\n",
    "# Calculate quantiles:\n",
    "pred_quantile1 = np.quantile(pred_bootstrap, 1-(alpha/2), axis=0)\n",
    "pred_quantile2 = np.quantile(pred_bootstrap, alpha/2, axis=0)"
   ]
  },
  {
   "cell_type": "code",
   "execution_count": 760,
   "metadata": {},
   "outputs": [],
   "source": [
    "# calculate CI's using bootstrap approximation for s.e:\n",
    "ci_new_lower = []\n",
    "ci_new_upper = []\n",
    "ci_new_exp = []\n",
    "\n",
    "for i in range(X_new.shape[0]):\n",
    "    x = X_new[i, :]\n",
    "    y = x @ beta\n",
    "    ci = ((y - z_score * se_pred_bootstrap[i])[0], (y+ z_score * se_pred_bootstrap[i])[0])\n",
    "    ci_new_exp.append(ci)\n",
    "    ci_new_lower.append((y - z_score * se_pred_bootstrap[i])[0])\n",
    "    ci_new_upper.append((y + z_score * se_pred_bootstrap[i])[0])"
   ]
  },
  {
   "cell_type": "code",
   "execution_count": 761,
   "metadata": {},
   "outputs": [
    {
     "data": {
      "text/html": [
       "<div>\n",
       "<style scoped>\n",
       "    .dataframe tbody tr th:only-of-type {\n",
       "        vertical-align: middle;\n",
       "    }\n",
       "\n",
       "    .dataframe tbody tr th {\n",
       "        vertical-align: top;\n",
       "    }\n",
       "\n",
       "    .dataframe thead th {\n",
       "        text-align: right;\n",
       "    }\n",
       "</style>\n",
       "<table border=\"1\" class=\"dataframe\">\n",
       "  <thead>\n",
       "    <tr style=\"text-align: right;\">\n",
       "      <th></th>\n",
       "      <th>lower</th>\n",
       "      <th>upper</th>\n",
       "    </tr>\n",
       "  </thead>\n",
       "  <tbody>\n",
       "    <tr>\n",
       "      <th>0</th>\n",
       "      <td>88.080274</td>\n",
       "      <td>97.015340</td>\n",
       "    </tr>\n",
       "    <tr>\n",
       "      <th>1</th>\n",
       "      <td>98.384250</td>\n",
       "      <td>113.442240</td>\n",
       "    </tr>\n",
       "    <tr>\n",
       "      <th>2</th>\n",
       "      <td>59.972489</td>\n",
       "      <td>72.910924</td>\n",
       "    </tr>\n",
       "    <tr>\n",
       "      <th>3</th>\n",
       "      <td>85.044289</td>\n",
       "      <td>103.708822</td>\n",
       "    </tr>\n",
       "    <tr>\n",
       "      <th>4</th>\n",
       "      <td>67.176669</td>\n",
       "      <td>82.774646</td>\n",
       "    </tr>\n",
       "  </tbody>\n",
       "</table>\n",
       "</div>"
      ],
      "text/plain": [
       "       lower       upper\n",
       "0  88.080274   97.015340\n",
       "1  98.384250  113.442240\n",
       "2  59.972489   72.910924\n",
       "3  85.044289  103.708822\n",
       "4  67.176669   82.774646"
      ]
     },
     "execution_count": 761,
     "metadata": {},
     "output_type": "execute_result"
    }
   ],
   "source": [
    "# The CI's for the new data points are:\n",
    "ci_df = pd.DataFrame(columns=['lower', 'upper'])\n",
    "ci_df['lower'] = ci_new_lower\n",
    "ci_df['upper'] = ci_new_upper\n",
    "ci_df.head()"
   ]
  },
  {
   "cell_type": "markdown",
   "metadata": {},
   "source": [
    "#### 3.c."
   ]
  },
  {
   "cell_type": "code",
   "execution_count": 762,
   "metadata": {},
   "outputs": [
    {
     "name": "stdout",
     "output_type": "stream",
     "text": [
      "Percentage of new y's that are in the CI:  33.0 %\n"
     ]
    }
   ],
   "source": [
    "# c) calculate the percentage of new y's that are in the CI:\n",
    "\n",
    "count = 0\n",
    "\n",
    "for i in range(n_new):\n",
    "    if ci_new_lower[i] <= y_new[i] <= ci_new_upper[i]:\n",
    "        count += 1\n",
    "\n",
    "print(\"Percentage of new y's that are in the CI: \", (count/n_new)*100, \"%\")"
   ]
  },
  {
   "cell_type": "markdown",
   "metadata": {},
   "source": [
    "We can see the percentage is far from 95%. This means our assumptions are not met. In addition, we calculated CI for the expectation, not for the value of the new observation. Therefore, the current CI is not expected to work well for the new observation, because we need to take into the consideration the variance of the new observation."
   ]
  },
  {
   "cell_type": "markdown",
   "metadata": {},
   "source": [
    "#### 3.d.\n",
    "\n",
    "To calculate CI for the value of the new observation we need to consider the additional variance of the new observation. \n",
    "We can estimate this variance based on the variance of the residuals of the sample (without bootstrapping).\n",
    "\n",
    "We assume normal distribution of the residuals, and therefore we can use the following formula:\n",
    "Var(y_new+epsilon) = Var(y_new) + Var(epsilon) = Var(y_new) + sigma^2\n",
    "\n",
    "We can estimate Var(y_new) by bootstrapping,\n",
    "\n",
    "Afterwards, we can calculate the CI using the standard formula for CI of normal distribution, with the new variance."
   ]
  },
  {
   "cell_type": "markdown",
   "metadata": {},
   "source": [
    "## Part B - Testing"
   ]
  },
  {
   "cell_type": "markdown",
   "metadata": {},
   "source": [
    "**Research Question:** Does the value of green vegetables' consumption differ between populations which do and don't exercise?\n"
   ]
  },
  {
   "cell_type": "markdown",
   "metadata": {},
   "source": [
    "### 1.\n",
    "\n",
    "Are values of green vegetables' consumption in the exercising population, stochastically bigger than the values of green vegetables' consumption in the non-exercising population?"
   ]
  },
  {
   "cell_type": "markdown",
   "metadata": {},
   "source": [
    "### 2."
   ]
  },
  {
   "cell_type": "code",
   "execution_count": 763,
   "metadata": {},
   "outputs": [],
   "source": [
    "# Get a sample for part B:\n",
    "n_b = 200\n",
    "\n",
    "small_data_B = data[['Exercise', 'Green_Vegetables_Consumption']]\n",
    "sample_b = small_data_B.sample(n_b)\n",
    "\n",
    "sample_ex = sample_b[sample_b['Exercise'] == \"Yes\"]\n",
    "sample_nex = sample_b[sample_b['Exercise'] == \"No\"]"
   ]
  },
  {
   "cell_type": "markdown",
   "metadata": {},
   "source": [
    "### 3."
   ]
  },
  {
   "cell_type": "markdown",
   "metadata": {},
   "source": [
    "#### 3.a."
   ]
  },
  {
   "cell_type": "code",
   "execution_count": 764,
   "metadata": {},
   "outputs": [
    {
     "name": "stdout",
     "output_type": "stream",
     "text": [
      "mu1:  15.33774834437086\n",
      "mu2:  10.571428571428571\n",
      "delta:  4.766319772942289\n"
     ]
    }
   ],
   "source": [
    "# a) \n",
    "\n",
    "mu1 = np.mean(sample_ex['Green_Vegetables_Consumption'])\n",
    "print(\"mu1: \", mu1)\n",
    "\n",
    "mu2 = np.mean(sample_nex['Green_Vegetables_Consumption'])\n",
    "print(\"mu2: \", mu2)\n",
    "\n",
    "delta = mu1 - mu2\n",
    "print(\"delta: \", delta)"
   ]
  },
  {
   "cell_type": "markdown",
   "metadata": {},
   "source": [
    "Since the variables are not from a known distribution, we cannot assume the means are the MLE's."
   ]
  },
  {
   "cell_type": "markdown",
   "metadata": {},
   "source": [
    "#### 3.b."
   ]
  },
  {
   "cell_type": "code",
   "execution_count": 765,
   "metadata": {},
   "outputs": [],
   "source": [
    "# b)\n",
    "\n",
    "## BOOTSTRAP:\n",
    "delta_bootstrap = np.zeros(B)\n",
    "\n",
    "# Run bootstrap:\n",
    "for i in range(B):\n",
    "    # sample from sample_b with replacement:\n",
    "    sample_row = sample_b.sample(n_b, replace=True)\n",
    "    # calculate delta:\n",
    "    mu1 = sample_row[sample_row['Exercise'] == \"Yes\"].Green_Vegetables_Consumption.mean()\n",
    "    mu2 = sample_row[sample_row['Exercise'] == \"No\"].Green_Vegetables_Consumption.mean()\n",
    "    delta = mu1 - mu2\n",
    "\n",
    "    delta_bootstrap[i] = delta"
   ]
  },
  {
   "cell_type": "code",
   "execution_count": 766,
   "metadata": {},
   "outputs": [],
   "source": [
    "# Calculate the standard error:\n",
    "se_pred_bootstrap = np.std(delta_bootstrap)\n",
    "delta_quantile1 = np.quantile(delta_bootstrap, 1-(alpha/2), axis=0)\n",
    "delta_quantile2 = np.quantile(delta_bootstrap, alpha/2, axis=0)"
   ]
  },
  {
   "cell_type": "code",
   "execution_count": 767,
   "metadata": {},
   "outputs": [
    {
     "name": "stdout",
     "output_type": "stream",
     "text": [
      "quantile CI for delta:  (1.4781128999850934, 8.301049374237506)\n"
     ]
    }
   ],
   "source": [
    "print(\"quantile CI for delta: \", (delta_quantile2, delta_quantile1))"
   ]
  },
  {
   "cell_type": "markdown",
   "metadata": {},
   "source": [
    "#### 3.c."
   ]
  },
  {
   "cell_type": "code",
   "execution_count": 768,
   "metadata": {},
   "outputs": [
    {
     "name": "stdout",
     "output_type": "stream",
     "text": [
      "full delta:  4.476953203801356\n",
      "full delta is in the CI\n"
     ]
    }
   ],
   "source": [
    "# c)\n",
    "\n",
    "full_mu1 = small_data_B[small_data_B['Exercise'] == \"Yes\"].Green_Vegetables_Consumption.mean()\n",
    "full_mu2 = small_data_B[small_data_B['Exercise'] == \"No\"].Green_Vegetables_Consumption.mean()\n",
    "full_delta = full_mu1 - full_mu2\n",
    "\n",
    "print(\"full delta: \", full_delta)\n",
    "if delta_quantile2 <= full_delta <= delta_quantile1:\n",
    "    print(\"full delta is in the CI\")\n",
    "else:\n",
    "    print(\"full delta is not in the CI\")\n"
   ]
  },
  {
   "cell_type": "markdown",
   "metadata": {},
   "source": [
    "#### 3.d\n",
    "\n",
    "We will perform the following Wald test:\n",
    "\n",
    "$$H_0: \\delta = \\theta_1 - \\theta_2 = 0$$\n",
    "$$H_1: \\delta = \\theta_1 - \\theta_2 > 0$$\n",
    "$$W = \\frac{\\hat{\\delta} - 0}{\\sqrt{s_x^2/n + s_y^2/m}}$$\n",
    "$$RR = \\{W > z_{1-\\alpha}\\}$$\n"
   ]
  },
  {
   "cell_type": "code",
   "execution_count": 769,
   "metadata": {},
   "outputs": [
    {
     "name": "stdout",
     "output_type": "stream",
     "text": [
      "Wald test:  2.5969278916265828\n",
      "Wald test: reject H0\n",
      "pvalue:  0.004703083408034936\n"
     ]
    }
   ],
   "source": [
    "### Wald test:\n",
    "\n",
    "n1 = len(sample_b[sample_b['Exercise'] == \"Yes\"])\n",
    "n2 = len(sample_b[sample_b['Exercise'] == \"No\"])\n",
    "\n",
    "mu1 = sample_b[sample_b['Exercise'] == \"Yes\"].Green_Vegetables_Consumption.mean()\n",
    "mu2 = sample_b[sample_b['Exercise'] == \"No\"].Green_Vegetables_Consumption.mean()\n",
    "\n",
    "se1 = sample_b[sample_b['Exercise'] == \"Yes\"].Green_Vegetables_Consumption.std()\n",
    "se2 = sample_b[sample_b['Exercise'] == \"No\"].Green_Vegetables_Consumption.std()\n",
    "\n",
    "W = (mu1 - mu2) / np.sqrt((se1**2)/n1 + (se2**2)/n2)\n",
    "print(\"Wald test: \", W)\n",
    "\n",
    "z_score_one_side = stats.norm.ppf(1-alpha)\n",
    "\n",
    "if W > z_score_one_side:\n",
    "    print(\"Wald test: reject H0\")\n",
    "else:\n",
    "    print(\"Wald test: fail to reject H0\")\n",
    "\n",
    "pvalue = 1 - stats.norm.cdf(W)\n",
    "print(\"pvalue: \", pvalue)"
   ]
  },
  {
   "cell_type": "markdown",
   "metadata": {},
   "source": [
    "We will perform the following permutations test:\n",
    "\n",
    "$$H_0: F_x = F_y $$\n",
    "$$H_0: F_x < F_y $$\n",
    "$$T.S: T_0 = mean(X) - mean(Y)$$\n",
    "$$pvalue = \\frac{1}{B} \\sum_{i=1}^{B} I(T_i \\geq T_0)$$\n",
    "$$RR = \\{pvalue < \\alpha\\}$$"
   ]
  },
  {
   "cell_type": "code",
   "execution_count": 785,
   "metadata": {},
   "outputs": [
    {
     "name": "stdout",
     "output_type": "stream",
     "text": [
      "permutation test: reject H0\n",
      "pvalue_perm:  0.0025\n"
     ]
    }
   ],
   "source": [
    "### Permutation test:\n",
    "\n",
    "N = n1 + n2\n",
    "T0 = mu1 - mu2\n",
    "\n",
    "## BOOTSTRAP:\n",
    "permutations_bootstrap = np.zeros(B)\n",
    "\n",
    "# Run bootstrap:\n",
    "for i in range(B):\n",
    "    # sample from sample_b with replacement:\n",
    "    sample_row = sample_b.sample(n1, replace=False)\n",
    "    sample_row_complement = sample_b.drop(sample_row.index)\n",
    "    # calculate statistic:\n",
    "    mu1_boot = sample_row['Green_Vegetables_Consumption'].mean()\n",
    "    mu2_boot = sample_row_complement['Green_Vegetables_Consumption'].mean()\n",
    "    T = mu1_boot - mu2_boot\n",
    "    permutations_bootstrap[i] = T\n",
    "\n",
    "pvalue_perm = np.sum(permutations_bootstrap >= T0) / B\n",
    "\n",
    "if pvalue_perm < alpha:\n",
    "    print(\"permutation test: reject H0\")\n",
    "else:\n",
    "    print(\"permutation test: fail to reject H0\")\n",
    "\n",
    "print(\"pvalue_perm: \", pvalue_perm)"
   ]
  },
  {
   "cell_type": "markdown",
   "metadata": {},
   "source": [
    "### 4."
   ]
  },
  {
   "cell_type": "markdown",
   "metadata": {},
   "source": [
    "#### 4.a."
   ]
  },
  {
   "cell_type": "code",
   "execution_count": 771,
   "metadata": {},
   "outputs": [
    {
     "name": "stdout",
     "output_type": "stream",
     "text": [
      "m1:  12.0\n",
      "m2:  8.0\n",
      "delta_median:  4.0\n"
     ]
    }
   ],
   "source": [
    "# a)\n",
    "\n",
    "m1 = np.quantile(sample_ex.Green_Vegetables_Consumption, 0.5, axis=0)\n",
    "print(\"m1: \", m1)\n",
    "\n",
    "m2 = np.quantile(sample_nex.Green_Vegetables_Consumption, 0.5, axis=0)\n",
    "print(\"m2: \", m2)\n",
    "\n",
    "delta_median = m1 - m2\n",
    "print(\"delta_median: \", delta_median)"
   ]
  },
  {
   "cell_type": "markdown",
   "metadata": {},
   "source": [
    "Since the variables are not from a known distribution, we cannot assume the means are the MLE's."
   ]
  },
  {
   "cell_type": "markdown",
   "metadata": {},
   "source": [
    "#### 4.b."
   ]
  },
  {
   "cell_type": "code",
   "execution_count": 772,
   "metadata": {},
   "outputs": [],
   "source": [
    "# b)\n",
    "\n",
    "## BOOTSTRAP:\n",
    "delta_med_bootstrap = np.zeros(B)\n",
    "\n",
    "# Run bootstrap:\n",
    "for i in range(B):\n",
    "    # sample from sample_b with replacement:\n",
    "    sample_row = sample_b.sample(n_b, replace=True)\n",
    "    # calculate delta:\n",
    "    m1 = np.quantile(sample_row[sample_row['Exercise'] == \"Yes\"].Green_Vegetables_Consumption, 0.5)\n",
    "    m2 = np.quantile(sample_row[sample_row['Exercise'] == \"No\"].Green_Vegetables_Consumption, 0.5)\n",
    "    delta = m1 - m2\n",
    "\n",
    "    delta_med_bootstrap[i] = delta"
   ]
  },
  {
   "cell_type": "code",
   "execution_count": 773,
   "metadata": {},
   "outputs": [],
   "source": [
    "# Calculate the standard error:\n",
    "se_pred_bootstrap = np.std(delta_med_bootstrap)\n",
    "delta_med_quantile1 = np.quantile(delta_med_bootstrap, 1-(alpha/2), axis=0)\n",
    "delta_med_quantile2 = np.quantile(delta_med_bootstrap, alpha/2, axis=0)"
   ]
  },
  {
   "cell_type": "code",
   "execution_count": 774,
   "metadata": {},
   "outputs": [
    {
     "name": "stdout",
     "output_type": "stream",
     "text": [
      "quantile CI for delta median:  (0.0, 8.0)\n"
     ]
    }
   ],
   "source": [
    "print(\"quantile CI for delta median: \", (delta_med_quantile2, delta_med_quantile1))"
   ]
  },
  {
   "cell_type": "markdown",
   "metadata": {},
   "source": [
    "#### 4.c."
   ]
  },
  {
   "cell_type": "code",
   "execution_count": 775,
   "metadata": {},
   "outputs": [
    {
     "name": "stdout",
     "output_type": "stream",
     "text": [
      "full delta:  4.0\n",
      "full delta is in the CI\n"
     ]
    }
   ],
   "source": [
    "# c)\n",
    "\n",
    "full_m1 = np.quantile(small_data_B[small_data_B['Exercise'] == \"Yes\"].Green_Vegetables_Consumption, 0.5, axis=0)\n",
    "full_m2 = np.quantile(small_data_B[small_data_B['Exercise'] == \"No\"].Green_Vegetables_Consumption, 0.5, axis=0)\n",
    "full_delta_med = full_m1 - full_m2\n",
    "\n",
    "print(\"full delta: \", full_delta_med)\n",
    "if delta_med_quantile2 <= full_delta <= delta_med_quantile1:\n",
    "    print(\"full delta is in the CI\")\n",
    "else:\n",
    "    print(\"full delta is not in the CI\")\n"
   ]
  },
  {
   "cell_type": "markdown",
   "metadata": {},
   "source": [
    "#### 4.d\n",
    "\n",
    "We will perform the following permutations test:\n",
    "\n",
    "$$H_0: F_x = F_y $$\n",
    "$$H_0: F_x < F_y $$\n",
    "$$T.S: T_0 = Median_x - Median_y$$\n",
    "$$pvalue = \\frac{1}{B} \\sum_{i=1}^{B} I(T_i \\geq T_0)$$\n",
    "$$RR = \\{pvalue < \\alpha\\}$$"
   ]
  },
  {
   "cell_type": "code",
   "execution_count": 776,
   "metadata": {},
   "outputs": [
    {
     "name": "stdout",
     "output_type": "stream",
     "text": [
      "T0:  4.0\n",
      "pvalue_perm:  0.305\n",
      "permutation test: fail to reject H0\n"
     ]
    }
   ],
   "source": [
    "### Permutation test:\n",
    "n1 = len(sample_b[sample_b['Exercise'] == \"Yes\"])\n",
    "m1 = np.quantile(sample_b[sample_b['Exercise'] == \"Yes\"].Green_Vegetables_Consumption, 0.5)\n",
    "m2 = np.quantile(sample_b[sample_b['Exercise'] == \"No\"].Green_Vegetables_Consumption, 0.5)\n",
    "T0 = m1 - m2\n",
    "print(\"T0: \", T0)\n",
    "\n",
    "## BOOTSTRAP:\n",
    "permutations_bootstrap = np.zeros(B)\n",
    "\n",
    "# Run bootstrap:\n",
    "for i in range(B):\n",
    "    # sample from sample_b with replacement:\n",
    "    sample_row = sample_b.sample(n1, replace=False)\n",
    "    sample_row_complement = sample_b.drop(sample_row.index)\n",
    "    # calculate delta:\n",
    "    m1 = np.quantile(sample_row.Green_Vegetables_Consumption, 0.5)\n",
    "    m2 = np.quantile(sample_row_complement.Green_Vegetables_Consumption, 0.5)\n",
    "    T = m1 - m2\n",
    "    permutations_bootstrap[i] = T\n",
    "\n",
    "pvalue_perm = np.sum(permutations_bootstrap >= T0) / B\n",
    "\n",
    "print(\"pvalue_perm: \", pvalue_perm)\n",
    "\n",
    "if pvalue_perm < alpha:\n",
    "    print(\"permutation test: reject H0\")\n",
    "else:\n",
    "    print(\"permutation test: fail to reject H0\")"
   ]
  },
  {
   "cell_type": "markdown",
   "metadata": {},
   "source": [
    "* We can use the Wald test for the medians, as we saw in the lecture about wald testing. We will need to adjust it to a one-sided test, and calculate the s.e.(med(x) - med(y)) using a bootstrap technique.\n",
    "\n",
    "To see if we can use the T-Test, we will check the variances of the groups using an F-test:"
   ]
  },
  {
   "cell_type": "code",
   "execution_count": 777,
   "metadata": {},
   "outputs": [
    {
     "name": "stdout",
     "output_type": "stream",
     "text": [
      "F =  1.8014575894039737\n",
      "f_score =  1.5087878016699776\n",
      "Reject H0\n"
     ]
    }
   ],
   "source": [
    "population_exercise = sample_b[sample_b['Exercise'] == \"Yes\"].Green_Vegetables_Consumption\n",
    "population_wo_exercise = sample_b[sample_b['Exercise'] == \"No\"].Green_Vegetables_Consumption\n",
    "\n",
    "n = len(population_exercise)\n",
    "m = len(population_wo_exercise)\n",
    "\n",
    "# calculate the estimated variance of the two samples:\n",
    "S1 = 1/(n-1) * np.sum((population_exercise - np.mean(population_exercise))**2)\n",
    "S2 = 1/(m-1) * np.sum((population_wo_exercise -\n",
    "                       np.mean(population_wo_exercise))**2)\n",
    "\n",
    "# calculate the F Statistic:\n",
    "if S1 > S2:\n",
    "    F = S1/S2\n",
    "else:\n",
    "    F = S2/S1\n",
    "print(\"F = \", F)\n",
    "\n",
    "# Calculate the f-score for 95% confidence interval:\n",
    "f_score = stats.f.ppf(q=1-0.05, dfn=n-1, dfd=m-1)\n",
    "print(\"f_score = \", f_score)\n",
    "\n",
    "# Compare the F Statistic to the F critical value:\n",
    "if F > f_score:\n",
    "    print(\"Reject H0\")\n",
    "else:\n",
    "    print(\"Accept H0\")"
   ]
  },
  {
   "cell_type": "markdown",
   "metadata": {},
   "source": [
    "Therefore, the variances are not identical with a high confidence level.\n",
    "\n",
    "In conclusion, the assumptions of the T test are not met so we cannot use it."
   ]
  },
  {
   "cell_type": "markdown",
   "metadata": {},
   "source": [
    "### 5."
   ]
  },
  {
   "cell_type": "code",
   "execution_count": 782,
   "metadata": {},
   "outputs": [
    {
     "name": "stdout",
     "output_type": "stream",
     "text": [
      "S1:  16036.5\n"
     ]
    }
   ],
   "source": [
    "rank_pd = sample_b['Green_Vegetables_Consumption'].rank()\n",
    "sample_ex_rank = rank_pd[sample_b['Exercise'] == \"Yes\"]\n",
    "sample_nex_rank = rank_pd[sample_b['Exercise'] == \"No\"]\n",
    "\n",
    "S1_rank = sample_ex_rank.sum()\n",
    "S2_rank = sample_nex_rank.sum()\n",
    "\n",
    "print(\"S1: \", S1)"
   ]
  },
  {
   "cell_type": "markdown",
   "metadata": {},
   "source": [
    "We will perform the following permutations test:\n",
    "\n",
    "$$H_0: F_x = F_y $$\n",
    "$$H_0: F_x < F_y $$\n",
    "$$T.S: W_s = \\sum_{i=1}^{(n)} S_i$$\n",
    "$$pvalue = \\frac{1}{B} \\sum_{i=1}^{B} I(W_s \\geq W_0)$$\n",
    "$$RR = \\{pvalue < \\alpha\\}$$\n"
   ]
  },
  {
   "cell_type": "code",
   "execution_count": 783,
   "metadata": {},
   "outputs": [
    {
     "name": "stdout",
     "output_type": "stream",
     "text": [
      "permutation test: reject H0\n",
      "pvalue_perm:  0.0025\n"
     ]
    }
   ],
   "source": [
    "### Permutation test:\n",
    "\n",
    "## BOOTSTRAP:\n",
    "permutations_bootstrap = np.zeros(B)\n",
    "\n",
    "# Run bootstrap:\n",
    "for i in range(B):\n",
    "    # sample from sample_b with replacement:\n",
    "    rank_pd = sample_b['Green_Vegetables_Consumption'].rank()\n",
    "    sample_rank = rank_pd.sample(n1, replace=False)\n",
    "    S1_boot = sample_rank.sum()\n",
    "\n",
    "    permutations_bootstrap[i] = S1_boot\n",
    "\n",
    "pvalue_perm = np.sum(permutations_bootstrap >= S1_rank) / B\n",
    "\n",
    "if pvalue_perm < alpha:\n",
    "    print(\"permutation test: reject H0\")\n",
    "else:\n",
    "    print(\"permutation test: fail to reject H0\")\n",
    "\n",
    "print(\"pvalue_perm: \", pvalue_perm)\n"
   ]
  },
  {
   "cell_type": "markdown",
   "metadata": {},
   "source": [
    "Normal approximation:\n",
    "\n",
    "$$E_{H_0}(W_s) = \\frac{n(N+1)}{2}$$\n",
    "$$Var_{H_0}(W_s) = \\frac{nm(N+1)}{12}$$\n",
    "\n",
    "$$RR: \\frac{W_s - E_{H_0}(W_s)}{\\sqrt{Var_{H_0}(W_s)}} > z_{1-\\alpha}$$"
   ]
  },
  {
   "cell_type": "code",
   "execution_count": 784,
   "metadata": {},
   "outputs": [
    {
     "name": "stdout",
     "output_type": "stream",
     "text": [
      "statistic:  2.445734062258505\n",
      "Normality assumption test: reject H0\n"
     ]
    }
   ],
   "source": [
    "N = len(sample_b)\n",
    "n = len(sample_ex)\n",
    "m = len(sample_nex)\n",
    "\n",
    "exp_ws = n*(N+1)/2\n",
    "var_ws = n*m*(N+1)/12\n",
    "\n",
    "statistic = (S1_rank - exp_ws) / np.sqrt(var_ws)\n",
    "print(\"statistic: \", statistic)\n",
    "\n",
    "z_score_one_side = stats.norm.ppf(1-alpha)\n",
    "\n",
    "if statistic > z_score_one_side:\n",
    "    print(\"Normality assumption test: reject H0\")\n",
    "else:\n",
    "    print(\"Normality assumption test: fail to reject H0\")"
   ]
  },
  {
   "cell_type": "markdown",
   "metadata": {},
   "source": [
    "With both methods, we reject H0."
   ]
  },
  {
   "cell_type": "markdown",
   "metadata": {},
   "source": [
    "### 6."
   ]
  },
  {
   "cell_type": "code",
   "execution_count": 780,
   "metadata": {},
   "outputs": [
    {
     "data": {
      "image/png": "[encoded data removed]",
      "text/plain": [
       "<Figure size 640x480 with 1 Axes>"
      ]
     },
     "metadata": {},
     "output_type": "display_data"
    }
   ],
   "source": [
    "# Plot histogram:\n",
    "plt.title(\"Green Vegetables Consumption histogram\")\n",
    "plt.hist(sample_ex.Green_Vegetables_Consumption, bins=15, label='Exercise')\n",
    "plt.hist(sample_nex.Green_Vegetables_Consumption, bins=5, label='No Exercise')\n",
    "plt.xlabel(\"Green Vegetables Consumption per Month\")\n",
    "plt.ylabel(\"number of people in this GVC range\")\n",
    "plt.legend()\n",
    "plt.show()"
   ]
  },
  {
   "cell_type": "markdown",
   "metadata": {},
   "source": [
    "We can see a difference between the distributions in the histogram, so it makes sense that the tests in parts 3-5 generally rejected H0."
   ]
  }
 ],
 "metadata": {
  "kernelspec": {
   "display_name": "Python 3",
   "language": "python",
   "name": "python3"
  },
  "language_info": {
   "codemirror_mode": {
    "name": "ipython",
    "version": 3
   },
   "file_extension": ".py",
   "mimetype": "text/x-python",
   "name": "python",
   "nbconvert_exporter": "python",
   "pygments_lexer": "ipython3",
   "version": "3.10.12"
  },
  "orig_nbformat": 4
 },
 "nbformat": 4,
 "nbformat_minor": 2
}
